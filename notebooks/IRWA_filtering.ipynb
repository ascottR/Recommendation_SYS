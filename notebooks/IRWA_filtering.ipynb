{
  "nbformat": 4,
  "nbformat_minor": 0,
  "metadata": {
    "colab": {
      "provenance": [],
      "collapsed_sections": [
        "okjMFdM6LjQg",
        "Kdm2e0R9J--H",
        "mLnEtnI132Az"
      ]
    },
    "kernelspec": {
      "name": "python3",
      "display_name": "Python 3"
    },
    "language_info": {
      "name": "python"
    }
  },
  "cells": [
    {
      "cell_type": "code",
      "source": [
        "import numpy as np\n",
        "import pandas as pd\n",
        "import matplotlib.pyplot as plt\n",
        "import seaborn as sns\n",
        "import ast"
      ],
      "metadata": {
        "id": "VKg0Ai1nVUU6"
      },
      "execution_count": 336,
      "outputs": []
    },
    {
      "cell_type": "markdown",
      "source": [
        "# Loading and transforming the dataset to meet the desired specifications"
      ],
      "metadata": {
        "id": "okjMFdM6LjQg"
      }
    },
    {
      "cell_type": "code",
      "execution_count": 337,
      "metadata": {
        "id": "yL1n5VjRUsZL"
      },
      "outputs": [],
      "source": [
        "metadf = pd.read_csv('https://raw.githubusercontent.com/ascottR/Recommendation_SYS/refs/heads/main/artifacts/meta_final.csv')\n",
        "\n",
        "reviewdf = pd.read_csv('https://raw.githubusercontent.com/ascottR/Recommendation_SYS/refs/heads/main/artifacts/review_final.csv')"
      ]
    },
    {
      "cell_type": "code",
      "source": [
        "metadf.columns"
      ],
      "metadata": {
        "id": "ehWo0tQjVI_x",
        "colab": {
          "base_uri": "https://localhost:8080/"
        },
        "outputId": "c2ed7bb3-cba9-4825-a347-49f95b8a3c18"
      },
      "execution_count": 338,
      "outputs": [
        {
          "output_type": "execute_result",
          "data": {
            "text/plain": [
              "Index(['Unnamed: 0', 'title', 'average_rating', 'rating_number', 'features',\n",
              "       'description', 'price', 'images', 'store', 'categories', 'details',\n",
              "       'parent_asin'],\n",
              "      dtype='object')"
            ]
          },
          "metadata": {},
          "execution_count": 338
        }
      ]
    },
    {
      "cell_type": "code",
      "source": [
        "reviewdf.columns"
      ],
      "metadata": {
        "id": "K3lNTXlXX37x",
        "colab": {
          "base_uri": "https://localhost:8080/"
        },
        "outputId": "773604c5-61b3-4085-8255-af08995f99e3"
      },
      "execution_count": 339,
      "outputs": [
        {
          "output_type": "execute_result",
          "data": {
            "text/plain": [
              "Index(['user_id', 'rating', 'title', 'asin', 'parent_asin', 'timestamp',\n",
              "       'helpful_vote', 'verified_purchase'],\n",
              "      dtype='object')"
            ]
          },
          "metadata": {},
          "execution_count": 339
        }
      ]
    },
    {
      "cell_type": "code",
      "source": [
        "metadf.info()"
      ],
      "metadata": {
        "id": "KBmMNafeVr0d",
        "colab": {
          "base_uri": "https://localhost:8080/"
        },
        "outputId": "7b87c0aa-1aa7-4319-ac97-d0a3e1b7c46e"
      },
      "execution_count": 340,
      "outputs": [
        {
          "output_type": "stream",
          "name": "stdout",
          "text": [
            "<class 'pandas.core.frame.DataFrame'>\n",
            "RangeIndex: 29356 entries, 0 to 29355\n",
            "Data columns (total 12 columns):\n",
            " #   Column          Non-Null Count  Dtype  \n",
            "---  ------          --------------  -----  \n",
            " 0   Unnamed: 0      29356 non-null  int64  \n",
            " 1   title           29356 non-null  object \n",
            " 2   average_rating  29356 non-null  float64\n",
            " 3   rating_number   29356 non-null  int64  \n",
            " 4   features        29356 non-null  object \n",
            " 5   description     29356 non-null  object \n",
            " 6   price           29356 non-null  float64\n",
            " 7   images          29356 non-null  object \n",
            " 8   store           29338 non-null  object \n",
            " 9   categories      29356 non-null  object \n",
            " 10  details         29356 non-null  object \n",
            " 11  parent_asin     29356 non-null  object \n",
            "dtypes: float64(2), int64(2), object(8)\n",
            "memory usage: 2.7+ MB\n"
          ]
        }
      ]
    },
    {
      "cell_type": "code",
      "source": [
        "metadf['title']"
      ],
      "metadata": {
        "id": "LnKuVQtkCBnr",
        "colab": {
          "base_uri": "https://localhost:8080/",
          "height": 458
        },
        "outputId": "016b9e5f-5d20-4353-b3df-a39b0171fdeb"
      },
      "execution_count": 341,
      "outputs": [
        {
          "output_type": "execute_result",
          "data": {
            "text/plain": [
              "0        Portable Karaoke Machine for Adults, Unique Gi...\n",
              "1        Musical Instrument Lyre Harp, 16 Metal Strings...\n",
              "2        Set of 5 White Guitar Picks, 1.20mm Thick with...\n",
              "3               Danelectro Stock '59 Electric Guitar - Red\n",
              "4        HENGYEE 52.5mm Guitar Stratocaster Tremolo Bri...\n",
              "                               ...                        \n",
              "29351    American Dj Big Shot Led Variable Speed Led Po...\n",
              "29352    Golden Age Tune-o-matic Bridge For Archtop Gui...\n",
              "29353    Fender Vintera 60s Stratocaster Electric Guita...\n",
              "29354                                     VocoPro (VHF4000\n",
              "29355    Saxophone Reeds Case, PU Leather Saxophone Cla...\n",
              "Name: title, Length: 29356, dtype: object"
            ],
            "text/html": [
              "<div>\n",
              "<style scoped>\n",
              "    .dataframe tbody tr th:only-of-type {\n",
              "        vertical-align: middle;\n",
              "    }\n",
              "\n",
              "    .dataframe tbody tr th {\n",
              "        vertical-align: top;\n",
              "    }\n",
              "\n",
              "    .dataframe thead th {\n",
              "        text-align: right;\n",
              "    }\n",
              "</style>\n",
              "<table border=\"1\" class=\"dataframe\">\n",
              "  <thead>\n",
              "    <tr style=\"text-align: right;\">\n",
              "      <th></th>\n",
              "      <th>title</th>\n",
              "    </tr>\n",
              "  </thead>\n",
              "  <tbody>\n",
              "    <tr>\n",
              "      <th>0</th>\n",
              "      <td>Portable Karaoke Machine for Adults, Unique Gi...</td>\n",
              "    </tr>\n",
              "    <tr>\n",
              "      <th>1</th>\n",
              "      <td>Musical Instrument Lyre Harp, 16 Metal Strings...</td>\n",
              "    </tr>\n",
              "    <tr>\n",
              "      <th>2</th>\n",
              "      <td>Set of 5 White Guitar Picks, 1.20mm Thick with...</td>\n",
              "    </tr>\n",
              "    <tr>\n",
              "      <th>3</th>\n",
              "      <td>Danelectro Stock '59 Electric Guitar - Red</td>\n",
              "    </tr>\n",
              "    <tr>\n",
              "      <th>4</th>\n",
              "      <td>HENGYEE 52.5mm Guitar Stratocaster Tremolo Bri...</td>\n",
              "    </tr>\n",
              "    <tr>\n",
              "      <th>...</th>\n",
              "      <td>...</td>\n",
              "    </tr>\n",
              "    <tr>\n",
              "      <th>29351</th>\n",
              "      <td>American Dj Big Shot Led Variable Speed Led Po...</td>\n",
              "    </tr>\n",
              "    <tr>\n",
              "      <th>29352</th>\n",
              "      <td>Golden Age Tune-o-matic Bridge For Archtop Gui...</td>\n",
              "    </tr>\n",
              "    <tr>\n",
              "      <th>29353</th>\n",
              "      <td>Fender Vintera 60s Stratocaster Electric Guita...</td>\n",
              "    </tr>\n",
              "    <tr>\n",
              "      <th>29354</th>\n",
              "      <td>VocoPro (VHF4000</td>\n",
              "    </tr>\n",
              "    <tr>\n",
              "      <th>29355</th>\n",
              "      <td>Saxophone Reeds Case, PU Leather Saxophone Cla...</td>\n",
              "    </tr>\n",
              "  </tbody>\n",
              "</table>\n",
              "<p>29356 rows × 1 columns</p>\n",
              "</div><br><label><b>dtype:</b> object</label>"
            ]
          },
          "metadata": {},
          "execution_count": 341
        }
      ]
    },
    {
      "cell_type": "code",
      "source": [
        "print(f\"Mean global rating: {round(metadf['average_rating'].mean(),2)}.\")"
      ],
      "metadata": {
        "id": "40lV4pHOVwEO",
        "colab": {
          "base_uri": "https://localhost:8080/"
        },
        "outputId": "b0b0f0a3-8a4b-4506-f245-e56d0253a38b"
      },
      "execution_count": 342,
      "outputs": [
        {
          "output_type": "stream",
          "name": "stdout",
          "text": [
            "Mean global rating: 4.28.\n"
          ]
        }
      ]
    },
    {
      "cell_type": "code",
      "source": [
        "# Dropping unnecessary columns from reviewdf\n",
        "processed_df = reviewdf.drop(['timestamp', 'helpful_vote','asin','title'], axis=1)\n",
        "\n",
        "# Function to convert string representations of lists to actual lists\n",
        "def convert_strings_to_lists(df, columns):\n",
        "    for column in columns:\n",
        "        df[column] = df[column].apply(lambda x: ast.literal_eval(x) if isinstance(x, str) and x.startswith('[') else x)\n",
        "\n",
        "# Apply the function to the rating and parent_asin columns\n",
        "convert_strings_to_lists(processed_df, ['rating', 'parent_asin','verified_purchase'])\n",
        "\n",
        "#explode the dataset\n",
        "df_exploded = processed_df.explode(['rating', 'parent_asin','verified_purchase'])\n",
        "\n",
        "df_exploded.shape\n"
      ],
      "metadata": {
        "id": "dJRuvc40WJ30",
        "colab": {
          "base_uri": "https://localhost:8080/"
        },
        "outputId": "ae9c3a1c-ca39-411e-9e1e-8b14faeb4a2c"
      },
      "execution_count": 343,
      "outputs": [
        {
          "output_type": "execute_result",
          "data": {
            "text/plain": [
              "(250965, 4)"
            ]
          },
          "metadata": {},
          "execution_count": 343
        }
      ]
    },
    {
      "cell_type": "code",
      "source": [
        "reviewdf.columns"
      ],
      "metadata": {
        "id": "6OvwMmRxYuIi",
        "colab": {
          "base_uri": "https://localhost:8080/"
        },
        "outputId": "956c0942-2832-439c-e29d-fccda6c0e1c3"
      },
      "execution_count": 344,
      "outputs": [
        {
          "output_type": "execute_result",
          "data": {
            "text/plain": [
              "Index(['user_id', 'rating', 'title', 'asin', 'parent_asin', 'timestamp',\n",
              "       'helpful_vote', 'verified_purchase'],\n",
              "      dtype='object')"
            ]
          },
          "metadata": {},
          "execution_count": 344
        }
      ]
    },
    {
      "cell_type": "code",
      "source": [
        "df_exploded"
      ],
      "metadata": {
        "id": "zRD42ckZXTQM",
        "colab": {
          "base_uri": "https://localhost:8080/",
          "height": 424
        },
        "outputId": "c1881cdc-dd06-4597-90b0-97f1999c7ae5"
      },
      "execution_count": 345,
      "outputs": [
        {
          "output_type": "execute_result",
          "data": {
            "text/plain": [
              "                            user_id rating parent_asin verified_purchase\n",
              "0      AE2226PENZTTCDKFGRTUCUX2NU2Q      5  B01DECWM0G              True\n",
              "0      AE2226PENZTTCDKFGRTUCUX2NU2Q      5  B00HU25WSQ             False\n",
              "1      AE2252DKW4XJIZP5QPFMQVJBVRTA      5  B07F2NZWY5              True\n",
              "1      AE2252DKW4XJIZP5QPFMQVJBVRTA      4  B091R14NS3              True\n",
              "2      AE225P7FIMCUQD3TPAOF5LSGCLYQ      4  B0757Q45NK              True\n",
              "...                             ...    ...         ...               ...\n",
              "85035  AHZZX3DQ6IZHVV7GI77GL4PAQKCA      5  B07635X9VJ              True\n",
              "85036  AHZZXAWBVWME2D72MMSB6HU7TCAA      5  B09M7CRWH3              True\n",
              "85036  AHZZXAWBVWME2D72MMSB6HU7TCAA      5  B0BFKQ9QXD              True\n",
              "85036  AHZZXAWBVWME2D72MMSB6HU7TCAA      4  B09V91H5XM              True\n",
              "85036  AHZZXAWBVWME2D72MMSB6HU7TCAA      5  B0BKZ3GCGR              True\n",
              "\n",
              "[250965 rows x 4 columns]"
            ],
            "text/html": [
              "\n",
              "  <div id=\"df-90820ee5-85ef-49c5-b503-f36fed40e818\" class=\"colab-df-container\">\n",
              "    <div>\n",
              "<style scoped>\n",
              "    .dataframe tbody tr th:only-of-type {\n",
              "        vertical-align: middle;\n",
              "    }\n",
              "\n",
              "    .dataframe tbody tr th {\n",
              "        vertical-align: top;\n",
              "    }\n",
              "\n",
              "    .dataframe thead th {\n",
              "        text-align: right;\n",
              "    }\n",
              "</style>\n",
              "<table border=\"1\" class=\"dataframe\">\n",
              "  <thead>\n",
              "    <tr style=\"text-align: right;\">\n",
              "      <th></th>\n",
              "      <th>user_id</th>\n",
              "      <th>rating</th>\n",
              "      <th>parent_asin</th>\n",
              "      <th>verified_purchase</th>\n",
              "    </tr>\n",
              "  </thead>\n",
              "  <tbody>\n",
              "    <tr>\n",
              "      <th>0</th>\n",
              "      <td>AE2226PENZTTCDKFGRTUCUX2NU2Q</td>\n",
              "      <td>5</td>\n",
              "      <td>B01DECWM0G</td>\n",
              "      <td>True</td>\n",
              "    </tr>\n",
              "    <tr>\n",
              "      <th>0</th>\n",
              "      <td>AE2226PENZTTCDKFGRTUCUX2NU2Q</td>\n",
              "      <td>5</td>\n",
              "      <td>B00HU25WSQ</td>\n",
              "      <td>False</td>\n",
              "    </tr>\n",
              "    <tr>\n",
              "      <th>1</th>\n",
              "      <td>AE2252DKW4XJIZP5QPFMQVJBVRTA</td>\n",
              "      <td>5</td>\n",
              "      <td>B07F2NZWY5</td>\n",
              "      <td>True</td>\n",
              "    </tr>\n",
              "    <tr>\n",
              "      <th>1</th>\n",
              "      <td>AE2252DKW4XJIZP5QPFMQVJBVRTA</td>\n",
              "      <td>4</td>\n",
              "      <td>B091R14NS3</td>\n",
              "      <td>True</td>\n",
              "    </tr>\n",
              "    <tr>\n",
              "      <th>2</th>\n",
              "      <td>AE225P7FIMCUQD3TPAOF5LSGCLYQ</td>\n",
              "      <td>4</td>\n",
              "      <td>B0757Q45NK</td>\n",
              "      <td>True</td>\n",
              "    </tr>\n",
              "    <tr>\n",
              "      <th>...</th>\n",
              "      <td>...</td>\n",
              "      <td>...</td>\n",
              "      <td>...</td>\n",
              "      <td>...</td>\n",
              "    </tr>\n",
              "    <tr>\n",
              "      <th>85035</th>\n",
              "      <td>AHZZX3DQ6IZHVV7GI77GL4PAQKCA</td>\n",
              "      <td>5</td>\n",
              "      <td>B07635X9VJ</td>\n",
              "      <td>True</td>\n",
              "    </tr>\n",
              "    <tr>\n",
              "      <th>85036</th>\n",
              "      <td>AHZZXAWBVWME2D72MMSB6HU7TCAA</td>\n",
              "      <td>5</td>\n",
              "      <td>B09M7CRWH3</td>\n",
              "      <td>True</td>\n",
              "    </tr>\n",
              "    <tr>\n",
              "      <th>85036</th>\n",
              "      <td>AHZZXAWBVWME2D72MMSB6HU7TCAA</td>\n",
              "      <td>5</td>\n",
              "      <td>B0BFKQ9QXD</td>\n",
              "      <td>True</td>\n",
              "    </tr>\n",
              "    <tr>\n",
              "      <th>85036</th>\n",
              "      <td>AHZZXAWBVWME2D72MMSB6HU7TCAA</td>\n",
              "      <td>4</td>\n",
              "      <td>B09V91H5XM</td>\n",
              "      <td>True</td>\n",
              "    </tr>\n",
              "    <tr>\n",
              "      <th>85036</th>\n",
              "      <td>AHZZXAWBVWME2D72MMSB6HU7TCAA</td>\n",
              "      <td>5</td>\n",
              "      <td>B0BKZ3GCGR</td>\n",
              "      <td>True</td>\n",
              "    </tr>\n",
              "  </tbody>\n",
              "</table>\n",
              "<p>250965 rows × 4 columns</p>\n",
              "</div>\n",
              "    <div class=\"colab-df-buttons\">\n",
              "\n",
              "  <div class=\"colab-df-container\">\n",
              "    <button class=\"colab-df-convert\" onclick=\"convertToInteractive('df-90820ee5-85ef-49c5-b503-f36fed40e818')\"\n",
              "            title=\"Convert this dataframe to an interactive table.\"\n",
              "            style=\"display:none;\">\n",
              "\n",
              "  <svg xmlns=\"http://www.w3.org/2000/svg\" height=\"24px\" viewBox=\"0 -960 960 960\">\n",
              "    <path d=\"M120-120v-720h720v720H120Zm60-500h600v-160H180v160Zm220 220h160v-160H400v160Zm0 220h160v-160H400v160ZM180-400h160v-160H180v160Zm440 0h160v-160H620v160ZM180-180h160v-160H180v160Zm440 0h160v-160H620v160Z\"/>\n",
              "  </svg>\n",
              "    </button>\n",
              "\n",
              "  <style>\n",
              "    .colab-df-container {\n",
              "      display:flex;\n",
              "      gap: 12px;\n",
              "    }\n",
              "\n",
              "    .colab-df-convert {\n",
              "      background-color: #E8F0FE;\n",
              "      border: none;\n",
              "      border-radius: 50%;\n",
              "      cursor: pointer;\n",
              "      display: none;\n",
              "      fill: #1967D2;\n",
              "      height: 32px;\n",
              "      padding: 0 0 0 0;\n",
              "      width: 32px;\n",
              "    }\n",
              "\n",
              "    .colab-df-convert:hover {\n",
              "      background-color: #E2EBFA;\n",
              "      box-shadow: 0px 1px 2px rgba(60, 64, 67, 0.3), 0px 1px 3px 1px rgba(60, 64, 67, 0.15);\n",
              "      fill: #174EA6;\n",
              "    }\n",
              "\n",
              "    .colab-df-buttons div {\n",
              "      margin-bottom: 4px;\n",
              "    }\n",
              "\n",
              "    [theme=dark] .colab-df-convert {\n",
              "      background-color: #3B4455;\n",
              "      fill: #D2E3FC;\n",
              "    }\n",
              "\n",
              "    [theme=dark] .colab-df-convert:hover {\n",
              "      background-color: #434B5C;\n",
              "      box-shadow: 0px 1px 3px 1px rgba(0, 0, 0, 0.15);\n",
              "      filter: drop-shadow(0px 1px 2px rgba(0, 0, 0, 0.3));\n",
              "      fill: #FFFFFF;\n",
              "    }\n",
              "  </style>\n",
              "\n",
              "    <script>\n",
              "      const buttonEl =\n",
              "        document.querySelector('#df-90820ee5-85ef-49c5-b503-f36fed40e818 button.colab-df-convert');\n",
              "      buttonEl.style.display =\n",
              "        google.colab.kernel.accessAllowed ? 'block' : 'none';\n",
              "\n",
              "      async function convertToInteractive(key) {\n",
              "        const element = document.querySelector('#df-90820ee5-85ef-49c5-b503-f36fed40e818');\n",
              "        const dataTable =\n",
              "          await google.colab.kernel.invokeFunction('convertToInteractive',\n",
              "                                                    [key], {});\n",
              "        if (!dataTable) return;\n",
              "\n",
              "        const docLinkHtml = 'Like what you see? Visit the ' +\n",
              "          '<a target=\"_blank\" href=https://colab.research.google.com/notebooks/data_table.ipynb>data table notebook</a>'\n",
              "          + ' to learn more about interactive tables.';\n",
              "        element.innerHTML = '';\n",
              "        dataTable['output_type'] = 'display_data';\n",
              "        await google.colab.output.renderOutput(dataTable, element);\n",
              "        const docLink = document.createElement('div');\n",
              "        docLink.innerHTML = docLinkHtml;\n",
              "        element.appendChild(docLink);\n",
              "      }\n",
              "    </script>\n",
              "  </div>\n",
              "\n",
              "\n",
              "<div id=\"df-bc1bb84d-6cd1-4a20-92da-32558f354d46\">\n",
              "  <button class=\"colab-df-quickchart\" onclick=\"quickchart('df-bc1bb84d-6cd1-4a20-92da-32558f354d46')\"\n",
              "            title=\"Suggest charts\"\n",
              "            style=\"display:none;\">\n",
              "\n",
              "<svg xmlns=\"http://www.w3.org/2000/svg\" height=\"24px\"viewBox=\"0 0 24 24\"\n",
              "     width=\"24px\">\n",
              "    <g>\n",
              "        <path d=\"M19 3H5c-1.1 0-2 .9-2 2v14c0 1.1.9 2 2 2h14c1.1 0 2-.9 2-2V5c0-1.1-.9-2-2-2zM9 17H7v-7h2v7zm4 0h-2V7h2v10zm4 0h-2v-4h2v4z\"/>\n",
              "    </g>\n",
              "</svg>\n",
              "  </button>\n",
              "\n",
              "<style>\n",
              "  .colab-df-quickchart {\n",
              "      --bg-color: #E8F0FE;\n",
              "      --fill-color: #1967D2;\n",
              "      --hover-bg-color: #E2EBFA;\n",
              "      --hover-fill-color: #174EA6;\n",
              "      --disabled-fill-color: #AAA;\n",
              "      --disabled-bg-color: #DDD;\n",
              "  }\n",
              "\n",
              "  [theme=dark] .colab-df-quickchart {\n",
              "      --bg-color: #3B4455;\n",
              "      --fill-color: #D2E3FC;\n",
              "      --hover-bg-color: #434B5C;\n",
              "      --hover-fill-color: #FFFFFF;\n",
              "      --disabled-bg-color: #3B4455;\n",
              "      --disabled-fill-color: #666;\n",
              "  }\n",
              "\n",
              "  .colab-df-quickchart {\n",
              "    background-color: var(--bg-color);\n",
              "    border: none;\n",
              "    border-radius: 50%;\n",
              "    cursor: pointer;\n",
              "    display: none;\n",
              "    fill: var(--fill-color);\n",
              "    height: 32px;\n",
              "    padding: 0;\n",
              "    width: 32px;\n",
              "  }\n",
              "\n",
              "  .colab-df-quickchart:hover {\n",
              "    background-color: var(--hover-bg-color);\n",
              "    box-shadow: 0 1px 2px rgba(60, 64, 67, 0.3), 0 1px 3px 1px rgba(60, 64, 67, 0.15);\n",
              "    fill: var(--button-hover-fill-color);\n",
              "  }\n",
              "\n",
              "  .colab-df-quickchart-complete:disabled,\n",
              "  .colab-df-quickchart-complete:disabled:hover {\n",
              "    background-color: var(--disabled-bg-color);\n",
              "    fill: var(--disabled-fill-color);\n",
              "    box-shadow: none;\n",
              "  }\n",
              "\n",
              "  .colab-df-spinner {\n",
              "    border: 2px solid var(--fill-color);\n",
              "    border-color: transparent;\n",
              "    border-bottom-color: var(--fill-color);\n",
              "    animation:\n",
              "      spin 1s steps(1) infinite;\n",
              "  }\n",
              "\n",
              "  @keyframes spin {\n",
              "    0% {\n",
              "      border-color: transparent;\n",
              "      border-bottom-color: var(--fill-color);\n",
              "      border-left-color: var(--fill-color);\n",
              "    }\n",
              "    20% {\n",
              "      border-color: transparent;\n",
              "      border-left-color: var(--fill-color);\n",
              "      border-top-color: var(--fill-color);\n",
              "    }\n",
              "    30% {\n",
              "      border-color: transparent;\n",
              "      border-left-color: var(--fill-color);\n",
              "      border-top-color: var(--fill-color);\n",
              "      border-right-color: var(--fill-color);\n",
              "    }\n",
              "    40% {\n",
              "      border-color: transparent;\n",
              "      border-right-color: var(--fill-color);\n",
              "      border-top-color: var(--fill-color);\n",
              "    }\n",
              "    60% {\n",
              "      border-color: transparent;\n",
              "      border-right-color: var(--fill-color);\n",
              "    }\n",
              "    80% {\n",
              "      border-color: transparent;\n",
              "      border-right-color: var(--fill-color);\n",
              "      border-bottom-color: var(--fill-color);\n",
              "    }\n",
              "    90% {\n",
              "      border-color: transparent;\n",
              "      border-bottom-color: var(--fill-color);\n",
              "    }\n",
              "  }\n",
              "</style>\n",
              "\n",
              "  <script>\n",
              "    async function quickchart(key) {\n",
              "      const quickchartButtonEl =\n",
              "        document.querySelector('#' + key + ' button');\n",
              "      quickchartButtonEl.disabled = true;  // To prevent multiple clicks.\n",
              "      quickchartButtonEl.classList.add('colab-df-spinner');\n",
              "      try {\n",
              "        const charts = await google.colab.kernel.invokeFunction(\n",
              "            'suggestCharts', [key], {});\n",
              "      } catch (error) {\n",
              "        console.error('Error during call to suggestCharts:', error);\n",
              "      }\n",
              "      quickchartButtonEl.classList.remove('colab-df-spinner');\n",
              "      quickchartButtonEl.classList.add('colab-df-quickchart-complete');\n",
              "    }\n",
              "    (() => {\n",
              "      let quickchartButtonEl =\n",
              "        document.querySelector('#df-bc1bb84d-6cd1-4a20-92da-32558f354d46 button');\n",
              "      quickchartButtonEl.style.display =\n",
              "        google.colab.kernel.accessAllowed ? 'block' : 'none';\n",
              "    })();\n",
              "  </script>\n",
              "</div>\n",
              "\n",
              "  <div id=\"id_0671bd7b-902a-458c-b5f2-06ce5fcf88ee\">\n",
              "    <style>\n",
              "      .colab-df-generate {\n",
              "        background-color: #E8F0FE;\n",
              "        border: none;\n",
              "        border-radius: 50%;\n",
              "        cursor: pointer;\n",
              "        display: none;\n",
              "        fill: #1967D2;\n",
              "        height: 32px;\n",
              "        padding: 0 0 0 0;\n",
              "        width: 32px;\n",
              "      }\n",
              "\n",
              "      .colab-df-generate:hover {\n",
              "        background-color: #E2EBFA;\n",
              "        box-shadow: 0px 1px 2px rgba(60, 64, 67, 0.3), 0px 1px 3px 1px rgba(60, 64, 67, 0.15);\n",
              "        fill: #174EA6;\n",
              "      }\n",
              "\n",
              "      [theme=dark] .colab-df-generate {\n",
              "        background-color: #3B4455;\n",
              "        fill: #D2E3FC;\n",
              "      }\n",
              "\n",
              "      [theme=dark] .colab-df-generate:hover {\n",
              "        background-color: #434B5C;\n",
              "        box-shadow: 0px 1px 3px 1px rgba(0, 0, 0, 0.15);\n",
              "        filter: drop-shadow(0px 1px 2px rgba(0, 0, 0, 0.3));\n",
              "        fill: #FFFFFF;\n",
              "      }\n",
              "    </style>\n",
              "    <button class=\"colab-df-generate\" onclick=\"generateWithVariable('df_exploded')\"\n",
              "            title=\"Generate code using this dataframe.\"\n",
              "            style=\"display:none;\">\n",
              "\n",
              "  <svg xmlns=\"http://www.w3.org/2000/svg\" height=\"24px\"viewBox=\"0 0 24 24\"\n",
              "       width=\"24px\">\n",
              "    <path d=\"M7,19H8.4L18.45,9,17,7.55,7,17.6ZM5,21V16.75L18.45,3.32a2,2,0,0,1,2.83,0l1.4,1.43a1.91,1.91,0,0,1,.58,1.4,1.91,1.91,0,0,1-.58,1.4L9.25,21ZM18.45,9,17,7.55Zm-12,3A5.31,5.31,0,0,0,4.9,8.1,5.31,5.31,0,0,0,1,6.5,5.31,5.31,0,0,0,4.9,4.9,5.31,5.31,0,0,0,6.5,1,5.31,5.31,0,0,0,8.1,4.9,5.31,5.31,0,0,0,12,6.5,5.46,5.46,0,0,0,6.5,12Z\"/>\n",
              "  </svg>\n",
              "    </button>\n",
              "    <script>\n",
              "      (() => {\n",
              "      const buttonEl =\n",
              "        document.querySelector('#id_0671bd7b-902a-458c-b5f2-06ce5fcf88ee button.colab-df-generate');\n",
              "      buttonEl.style.display =\n",
              "        google.colab.kernel.accessAllowed ? 'block' : 'none';\n",
              "\n",
              "      buttonEl.onclick = () => {\n",
              "        google.colab.notebook.generateWithVariable('df_exploded');\n",
              "      }\n",
              "      })();\n",
              "    </script>\n",
              "  </div>\n",
              "\n",
              "    </div>\n",
              "  </div>\n"
            ],
            "application/vnd.google.colaboratory.intrinsic+json": {
              "type": "dataframe",
              "variable_name": "df_exploded"
            }
          },
          "metadata": {},
          "execution_count": 345
        }
      ]
    },
    {
      "cell_type": "code",
      "source": [
        "metadf.shape"
      ],
      "metadata": {
        "id": "RaW5u_erXb_i"
      },
      "execution_count": null,
      "outputs": []
    },
    {
      "cell_type": "code",
      "source": [
        "# Step 1: Count the number of ratings per user\n",
        "user_rating_counts = df_exploded.groupby('user_id').size()\n",
        "\n",
        "# Step 2: Create a boxplot to visualize outliers\n",
        "plt.figure(figsize=(10, 6))\n",
        "sns.boxplot(x=user_rating_counts)\n",
        "\n",
        "# Step 3: Add titles and labels\n",
        "plt.title('Boxplot of Number of Reviews per User', fontsize=16)\n",
        "plt.xlabel('Number of Reviews', fontsize=12)\n",
        "\n",
        "# Step 4: Show the plot\n",
        "plt.show()"
      ],
      "metadata": {
        "id": "5NKr8ubyPb9Z"
      },
      "execution_count": null,
      "outputs": []
    },
    {
      "cell_type": "code",
      "source": [
        "# Step 1: Count the number of ratings per user\n",
        "user_rating_counts = df_exploded.groupby('user_id').size()\n",
        "\n",
        "# Step 2: Calculate IQR to detect outliers\n",
        "Q1 = np.percentile(user_rating_counts, 25)  # First quartile (25%)\n",
        "Q3 = np.percentile(user_rating_counts, 75)  # Third quartile (75%)\n",
        "IQR = Q3 - Q1  # Interquartile Range\n",
        "\n",
        "# Step 3: Define the lower and upper bounds to detect outliers\n",
        "lower_bound = Q1 - 1.5 * IQR\n",
        "upper_bound = Q3 + 1.5 * IQR\n",
        "\n",
        "# Step 4: Filter users within the bounds (i.e., non-outliers)\n",
        "non_outlier_users = user_rating_counts[(user_rating_counts >= lower_bound) & (user_rating_counts <= upper_bound)].index\n",
        "\n",
        "# Step 5: Keep only the rows of users that are not outliers\n",
        "df_filtered_no_outliers = df_exploded[df_exploded['user_id'].isin(non_outlier_users)]\n",
        "\n",
        "# Step 6: Show the shape of the filtered DataFrame\n",
        "print(\"Filtered DataFrame (users without outliers):\")\n",
        "print(df_filtered_no_outliers.shape)"
      ],
      "metadata": {
        "id": "JLEgv-kVXoKo"
      },
      "execution_count": null,
      "outputs": []
    },
    {
      "cell_type": "code",
      "source": [
        "df_filtered_no_outliers"
      ],
      "metadata": {
        "id": "-fiOgtNUJJsz"
      },
      "execution_count": null,
      "outputs": []
    },
    {
      "cell_type": "code",
      "source": [
        "null_values = df_filtered_no_outliers.isnull().sum()\n",
        "\n",
        "# Print the result\n",
        "print(null_values)"
      ],
      "metadata": {
        "id": "WOeB7H_CJP3o"
      },
      "execution_count": null,
      "outputs": []
    },
    {
      "cell_type": "markdown",
      "source": [
        "# Most Popular Product Reccomendation\n",
        "Most Populer product reccomendation based on average_rating and rating_number."
      ],
      "metadata": {
        "id": "Kdm2e0R9J--H"
      }
    },
    {
      "cell_type": "code",
      "source": [
        "sns.histplot(metadf['rating_number'], bins=30, kde=False)\n",
        "plt.title(\"Distribution of the number of ratings per item\")\n",
        "plt.xlabel(\"Number of Ratings\")\n",
        "plt.ylabel(\"Count of Items\")\n",
        "plt.show()"
      ],
      "metadata": {
        "id": "HvPgNCzEKdmW"
      },
      "execution_count": null,
      "outputs": []
    },
    {
      "cell_type": "code",
      "source": [
        "# Round the 'average_rating' to the nearest 0.5\n",
        "metadf['rounded_rating'] = np.round(metadf['average_rating'] * 2) / 2\n",
        "\n",
        "# Plot the distribution of the rounded ratings\n",
        "sns.countplot(x=\"rounded_rating\", data=metadf, palette=\"viridis\")\n",
        "plt.title(\"Distribution of product ratings (rounded to nearest 0.5)\", fontsize=14)\n",
        "plt.show()"
      ],
      "metadata": {
        "id": "tA9BHQZ2bRWE"
      },
      "execution_count": null,
      "outputs": []
    },
    {
      "cell_type": "code",
      "source": [
        "# Calculate the overall average rating\n",
        "overall_average = metadf['average_rating'].mean()\n",
        "\n",
        "# Set a minimum count of ratings to consider\n",
        "C = metadf['rating_number'].quantile(0.75)\n",
        "print(f\"75th percentile of rating counts: {C}\")\n",
        "\n",
        "# Calculate Bayesian average for each item\n",
        "metadf['bayesian_average'] = (metadf['rating_number'] * metadf['average_rating'] + C * overall_average) / (metadf['rating_number'] + C)\n",
        "\n",
        "# Rank items based on the Bayesian average\n",
        "ranked_items = metadf.nlargest(10, 'bayesian_average')\n",
        "\n",
        "# Display the results\n",
        "ranked_items.sort_values('bayesian_average', ascending=False).head(10)"
      ],
      "metadata": {
        "id": "CQiTMzFscKoI"
      },
      "execution_count": null,
      "outputs": []
    },
    {
      "cell_type": "markdown",
      "source": [
        "# Check Sparsity"
      ],
      "metadata": {
        "id": "mLnEtnI132Az"
      }
    },
    {
      "cell_type": "code",
      "source": [
        "from scipy.sparse import csr_matrix\n",
        "\n",
        "def create_X_custom(df):\n",
        "    \"\"\"\n",
        "    Generates a sparse matrix from a DataFrame containing user ratings for products.\n",
        "\n",
        "    Args:\n",
        "        df: pandas DataFrame containing user_id, parent_asin, and ratings (as lists)\n",
        "\n",
        "    Returns:\n",
        "        X: sparse matrix\n",
        "        user_mapper: dict that maps user id's to user indices\n",
        "        user_inv_mapper: dict that maps user indices to user id's\n",
        "        item_mapper: dict that maps item id's to item indices\n",
        "        item_inv_mapper: dict that maps item indices to item id's\n",
        "    \"\"\"\n",
        "    # Explode the DataFrame to create individual rows for each rating\n",
        "    #df_filtered_no_outliers = df.explode(['rating', 'parent_asin'])\n",
        "\n",
        "    # Ensure the rating column contains numeric values\n",
        "    df_exploded['rating'] = df_exploded['rating'].astype(float)\n",
        "\n",
        "    # Check data types\n",
        "    print(\"Data types after explosion:\")\n",
        "    print(df_exploded.dtypes)\n",
        "\n",
        "    # Count unique users and items\n",
        "    M =  df_exploded['user_id'].nunique()  # Unique users\n",
        "    N =  df_exploded['parent_asin'].nunique()  # Unique items\n",
        "\n",
        "    # Print M and N\n",
        "    print(\"Number of unique users (M):\", M)\n",
        "    print(\"Number of unique items (N):\", N)\n",
        "\n",
        "    user_mapper = dict(zip(np.unique(df_exploded[\"user_id\"]), list(range(M))))\n",
        "    item_mapper = dict(zip(np.unique(df_exploded[\"parent_asin\"]), list(range(N))))\n",
        "\n",
        "    user_inv_mapper = dict(zip(list(range(M)), np.unique(df_exploded[\"user_id\"])))\n",
        "    item_inv_mapper = dict(zip(list(range(N)), np.unique(df_exploded[\"parent_asin\"])))\n",
        "\n",
        "    user_index = [user_mapper[i] for i in df_exploded['user_id']]\n",
        "    item_index = [item_mapper[i] for i in df_exploded['parent_asin']]\n",
        "\n",
        "    # Create the sparse matrix\n",
        "    X = csr_matrix((df_exploded[\"rating\"], (user_index, item_index)), shape=(M, N))\n",
        "\n",
        "    return X, user_mapper, item_mapper, user_inv_mapper, item_inv_mapper\n",
        "\n",
        "# Example usage\n",
        "X, user_mapper, item_mapper, user_inv_mapper, item_inv_mapper = create_X_custom(df_filtered_no_outliers)"
      ],
      "metadata": {
        "id": "SQx7SU9G4Ax1"
      },
      "execution_count": null,
      "outputs": []
    },
    {
      "cell_type": "code",
      "source": [
        "from scipy.io import mmwrite\n",
        "\n",
        "# Save the sparse matrix X to a file in Matrix Market format\n",
        "mmwrite('sparse_matrix.mtx', X)"
      ],
      "metadata": {
        "id": "fCCWgbVz3BYB"
      },
      "execution_count": null,
      "outputs": []
    },
    {
      "cell_type": "code",
      "source": [
        "n_total = X.shape[0]*X.shape[1]\n",
        "n_ratings = X.nnz\n",
        "sparsity = n_ratings/n_total\n",
        "print(f\"Matrix sparsity: {round(sparsity*100,2)}%\")"
      ],
      "metadata": {
        "id": "m8Phu30y5YYB"
      },
      "execution_count": null,
      "outputs": []
    },
    {
      "cell_type": "code",
      "source": [
        "n_ratings_per_user = X.getnnz(axis=1)\n",
        "len(n_ratings_per_user)"
      ],
      "metadata": {
        "id": "yDFi38YR6kQV"
      },
      "execution_count": null,
      "outputs": []
    },
    {
      "cell_type": "code",
      "source": [
        "print(f\"Most active user rated {n_ratings_per_user.max()} items.\")\n",
        "print(f\"Least active user rated {n_ratings_per_user.min()} items.\")"
      ],
      "metadata": {
        "id": "J19-gmJy7hdL"
      },
      "execution_count": null,
      "outputs": []
    },
    {
      "cell_type": "code",
      "source": [
        "n_ratings_per_item = X.getnnz(axis=0)\n",
        "len(n_ratings_per_item)\n",
        "\n",
        "print(f\"Most rated item has {n_ratings_per_item.max()} ratings.\")\n",
        "print(f\"Least rated item has {n_ratings_per_item.min()} ratings.\")"
      ],
      "metadata": {
        "id": "ZYGGC6Nt7o1p"
      },
      "execution_count": null,
      "outputs": []
    },
    {
      "cell_type": "code",
      "source": [
        "plt.figure(figsize=(16,4))\n",
        "plt.subplot(1,2,1)\n",
        "sns.kdeplot(n_ratings_per_user, shade=True)\n",
        "plt.xlim(0)\n",
        "plt.title(\"Number of Ratings Per User\", fontsize=14)\n",
        "plt.xlabel(\"number of ratings per user\")\n",
        "plt.ylabel(\"density\")\n",
        "plt.subplot(1,2,2)\n",
        "sns.kdeplot(n_ratings_per_item, shade=True)\n",
        "plt.xlim(0)\n",
        "plt.title(\"Number of Ratings Per Item\", fontsize=14)\n",
        "plt.xlabel(\"number of ratings per Item\")\n",
        "plt.ylabel(\"density\")\n",
        "plt.show()"
      ],
      "metadata": {
        "id": "9LPIZuJA751U"
      },
      "execution_count": null,
      "outputs": []
    },
    {
      "cell_type": "markdown",
      "source": [
        "# Colaberative Filtering"
      ],
      "metadata": {
        "id": "UDtV-Ptf9oDT"
      }
    },
    {
      "cell_type": "code",
      "source": [
        "from sklearn.neighbors import NearestNeighbors\n",
        "\n",
        "def find_similar_products_by_title(product_title, X, item_mapper, item_inv_mapper, product_titles, k, metric='cosine'):\n",
        "    \"\"\"\n",
        "    Finds k-nearest neighbours for a given product title.\n",
        "\n",
        "    Args:\n",
        "        product_title: Title of the product of interest\n",
        "        X: user-item utility matrix (sparse matrix)\n",
        "        k: number of similar products to retrieve\n",
        "        metric: distance metric for kNN calculations\n",
        "\n",
        "    Output: returns list of k similar product details based on product titles\n",
        "    \"\"\"\n",
        "    # Map the product title to its corresponding product ID\n",
        "    product_id = None\n",
        "    for pid, title in product_titles.items():\n",
        "        if title.lower() == product_title.lower():  # Case-insensitive match\n",
        "            product_id = pid\n",
        "            break\n",
        "\n",
        "    if product_id is None:\n",
        "        raise ValueError(f\"Product with title '{product_title}' not found in the dataset.\")\n",
        "\n",
        "    # Transpose the user-item matrix so products are the rows\n",
        "    X = X.T\n",
        "    neighbour_ids = []\n",
        "\n",
        "    # Get the index of the product using its ID\n",
        "    product_ind = item_mapper[product_id]\n",
        "    product_vec = X[product_ind]\n",
        "\n",
        "    # Reshape the product vector to be compatible with kneighbors\n",
        "    if isinstance(product_vec, np.ndarray):\n",
        "        product_vec = product_vec.reshape(1, -1)\n",
        "\n",
        "    # Use k+1 since kNN output includes the product ID of interest\n",
        "    kNN = NearestNeighbors(n_neighbors=k + 1, algorithm=\"brute\", metric=metric)\n",
        "    kNN.fit(X)\n",
        "\n",
        "    # Find the nearest neighbours\n",
        "    neighbour = kNN.kneighbors(product_vec, return_distance=False)\n",
        "\n",
        "    # Collect similar product IDs, skipping the first one (the product itself)\n",
        "    for i in range(1, k + 1):  # Start from 1 to skip the input product\n",
        "        n = neighbour.item(i)\n",
        "        neighbour_ids.append(item_inv_mapper[n])\n",
        "\n",
        "    return neighbour_ids\n",
        "\n",
        "\n",
        "# Example product_titles mapping 'parent_asin' to 'title'\n",
        "product_details = metadf.set_index('parent_asin')[['title', 'features', 'description', 'price', 'images', 'store', 'categories', 'details']]\n",
        "\n",
        "# Map 'parent_asin' to 'title' for searching by product title\n",
        "product_titles = dict(zip(metadf['parent_asin'], metadf['title']))\n",
        "\n",
        "# Define the product_title you want to find similar items for\n",
        "product_title = 'VocoPro (VHF4000'  # Replace with an actual product title from your dataset\n",
        "\n",
        "# Find similar products based on your product title\n",
        "similar_products = find_similar_products_by_title(product_title, X, item_mapper, item_inv_mapper, product_titles, metric='cosine', k=10)\n",
        "\n",
        "# Get the product details for the input product title\n",
        "input_product_id = None\n",
        "for pid, title in product_titles.items():\n",
        "    if title.lower() == product_title.lower():\n",
        "        input_product_id = pid\n",
        "        break\n",
        "\n",
        "input_product_details = product_details.loc[input_product_id]\n",
        "\n",
        "# Print the details of the input product\n",
        "print(f\"Because you viewed/bought '{input_product_details['title']}', here are similar products:\")\n",
        "\n",
        "# Display details of similar products\n",
        "for similar_product_id in similar_products:\n",
        "    product_info = product_details.loc[similar_product_id]\n",
        "    print(\"\\nSimilar Product:\")\n",
        "    print(f\"Title: {product_info['title']}\")\n",
        "    print(f\"Features: {product_info['features']}\")\n",
        "    print(f\"Description: {product_info['description']}\")\n",
        "    print(f\"Price: {product_info['price']}\")\n",
        "    print(f\"Images: {product_info['images']}\")\n",
        "    print(f\"Store: {product_info['store']}\")\n",
        "    print(f\"Categories: {product_info['categories']}\")\n",
        "    print(f\"Details: {product_info['details']}\")\n"
      ],
      "metadata": {
        "id": "GfJw8Lhs9v9e"
      },
      "execution_count": null,
      "outputs": []
    },
    {
      "cell_type": "code",
      "source": [],
      "metadata": {
        "id": "282Ndblf3NUc"
      },
      "execution_count": null,
      "outputs": []
    }
  ]
}