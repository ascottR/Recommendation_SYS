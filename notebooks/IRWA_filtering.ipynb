{
  "cells": [
    {
      "cell_type": "code",
      "execution_count": 1,
      "metadata": {
        "id": "VKg0Ai1nVUU6"
      },
      "outputs": [],
      "source": [
        "import numpy as np\n",
        "import pandas as pd\n",
        "# import matplotlib.pyplot as plt\n",
        "# import seaborn as sns\n",
        "import ast"
      ]
    },
    {
      "cell_type": "markdown",
      "metadata": {
        "id": "okjMFdM6LjQg"
      },
      "source": [
        "# Loading and transforming the dataset to meet the desired specifications"
      ]
    },
    {
      "cell_type": "code",
      "execution_count": 2,
      "metadata": {
        "id": "yL1n5VjRUsZL"
      },
      "outputs": [],
      "source": [
        "metadf = pd.read_csv('https://raw.githubusercontent.com/ascottR/Recommendation_SYS/refs/heads/main/artifacts/meta_final.csv')\n",
        "\n",
        "reviewdf = pd.read_csv('https://raw.githubusercontent.com/ascottR/Recommendation_SYS/refs/heads/main/artifacts/review_final.csv')"
      ]
    },
    {
      "cell_type": "code",
      "execution_count": 3,
      "metadata": {
        "colab": {
          "base_uri": "https://localhost:8080/"
        },
        "id": "ehWo0tQjVI_x",
        "outputId": "c2ed7bb3-cba9-4825-a347-49f95b8a3c18"
      },
      "outputs": [
        {
          "data": {
            "text/plain": [
              "Index(['Unnamed: 0', 'title', 'average_rating', 'rating_number', 'features',\n",
              "       'description', 'price', 'images', 'store', 'categories', 'details',\n",
              "       'parent_asin'],\n",
              "      dtype='object')"
            ]
          },
          "execution_count": 3,
          "metadata": {},
          "output_type": "execute_result"
        }
      ],
      "source": [
        "metadf.columns"
      ]
    },
    {
      "cell_type": "code",
      "execution_count": 4,
      "metadata": {
        "colab": {
          "base_uri": "https://localhost:8080/"
        },
        "id": "K3lNTXlXX37x",
        "outputId": "773604c5-61b3-4085-8255-af08995f99e3"
      },
      "outputs": [
        {
          "data": {
            "text/plain": [
              "Index(['user_id', 'rating', 'title', 'asin', 'parent_asin', 'timestamp',\n",
              "       'helpful_vote', 'verified_purchase'],\n",
              "      dtype='object')"
            ]
          },
          "execution_count": 4,
          "metadata": {},
          "output_type": "execute_result"
        }
      ],
      "source": [
        "reviewdf.columns"
      ]
    },
    {
      "cell_type": "code",
      "execution_count": 5,
      "metadata": {
        "colab": {
          "base_uri": "https://localhost:8080/"
        },
        "id": "KBmMNafeVr0d",
        "outputId": "7b87c0aa-1aa7-4319-ac97-d0a3e1b7c46e"
      },
      "outputs": [
        {
          "name": "stdout",
          "output_type": "stream",
          "text": [
            "<class 'pandas.core.frame.DataFrame'>\n",
            "RangeIndex: 29356 entries, 0 to 29355\n",
            "Data columns (total 12 columns):\n",
            " #   Column          Non-Null Count  Dtype  \n",
            "---  ------          --------------  -----  \n",
            " 0   Unnamed: 0      29356 non-null  int64  \n",
            " 1   title           29356 non-null  object \n",
            " 2   average_rating  29356 non-null  float64\n",
            " 3   rating_number   29356 non-null  int64  \n",
            " 4   features        29356 non-null  object \n",
            " 5   description     29356 non-null  object \n",
            " 6   price           29356 non-null  float64\n",
            " 7   images          29356 non-null  object \n",
            " 8   store           29338 non-null  object \n",
            " 9   categories      29356 non-null  object \n",
            " 10  details         29356 non-null  object \n",
            " 11  parent_asin     29356 non-null  object \n",
            "dtypes: float64(2), int64(2), object(8)\n",
            "memory usage: 2.7+ MB\n"
          ]
        }
      ],
      "source": [
        "metadf.info()"
      ]
    },
    {
      "cell_type": "code",
      "execution_count": 6,
      "metadata": {
        "colab": {
          "base_uri": "https://localhost:8080/",
          "height": 458
        },
        "id": "LnKuVQtkCBnr",
        "outputId": "016b9e5f-5d20-4353-b3df-a39b0171fdeb"
      },
      "outputs": [
        {
          "data": {
            "text/plain": [
              "0        Portable Karaoke Machine for Adults, Unique Gi...\n",
              "1        Musical Instrument Lyre Harp, 16 Metal Strings...\n",
              "2        Set of 5 White Guitar Picks, 1.20mm Thick with...\n",
              "3               Danelectro Stock '59 Electric Guitar - Red\n",
              "4        HENGYEE 52.5mm Guitar Stratocaster Tremolo Bri...\n",
              "                               ...                        \n",
              "29351    American Dj Big Shot Led Variable Speed Led Po...\n",
              "29352    Golden Age Tune-o-matic Bridge For Archtop Gui...\n",
              "29353    Fender Vintera 60s Stratocaster Electric Guita...\n",
              "29354                                     VocoPro (VHF4000\n",
              "29355    Saxophone Reeds Case, PU Leather Saxophone Cla...\n",
              "Name: title, Length: 29356, dtype: object"
            ]
          },
          "execution_count": 6,
          "metadata": {},
          "output_type": "execute_result"
        }
      ],
      "source": [
        "metadf['title']"
      ]
    },
    {
      "cell_type": "code",
      "execution_count": 7,
      "metadata": {
        "colab": {
          "base_uri": "https://localhost:8080/"
        },
        "id": "40lV4pHOVwEO",
        "outputId": "b0b0f0a3-8a4b-4506-f245-e56d0253a38b"
      },
      "outputs": [
        {
          "name": "stdout",
          "output_type": "stream",
          "text": [
            "Mean global rating: 4.28.\n"
          ]
        }
      ],
      "source": [
        "print(f\"Mean global rating: {round(metadf['average_rating'].mean(),2)}.\")"
      ]
    },
    {
      "cell_type": "code",
      "execution_count": 8,
      "metadata": {
        "colab": {
          "base_uri": "https://localhost:8080/"
        },
        "id": "dJRuvc40WJ30",
        "outputId": "ae9c3a1c-ca39-411e-9e1e-8b14faeb4a2c"
      },
      "outputs": [
        {
          "data": {
            "text/plain": [
              "(250965, 4)"
            ]
          },
          "execution_count": 8,
          "metadata": {},
          "output_type": "execute_result"
        }
      ],
      "source": [
        "# Dropping unnecessary columns from reviewdf\n",
        "processed_df = reviewdf.drop(['timestamp', 'helpful_vote','asin','title'], axis=1)\n",
        "\n",
        "# Function to convert string representations of lists to actual lists\n",
        "def convert_strings_to_lists(df, columns):\n",
        "    for column in columns:\n",
        "        df[column] = df[column].apply(lambda x: ast.literal_eval(x) if isinstance(x, str) and x.startswith('[') else x)\n",
        "\n",
        "# Apply the function to the rating and parent_asin columns\n",
        "convert_strings_to_lists(processed_df, ['rating', 'parent_asin','verified_purchase'])\n",
        "\n",
        "#explode the dataset\n",
        "df_exploded = processed_df.explode(['rating', 'parent_asin','verified_purchase'])\n",
        "\n",
        "df_exploded.shape\n"
      ]
    },
    {
      "cell_type": "code",
      "execution_count": 9,
      "metadata": {
        "colab": {
          "base_uri": "https://localhost:8080/"
        },
        "id": "6OvwMmRxYuIi",
        "outputId": "956c0942-2832-439c-e29d-fccda6c0e1c3"
      },
      "outputs": [
        {
          "data": {
            "text/plain": [
              "Index(['user_id', 'rating', 'title', 'asin', 'parent_asin', 'timestamp',\n",
              "       'helpful_vote', 'verified_purchase'],\n",
              "      dtype='object')"
            ]
          },
          "execution_count": 9,
          "metadata": {},
          "output_type": "execute_result"
        }
      ],
      "source": [
        "reviewdf.columns"
      ]
    },
    {
      "cell_type": "code",
      "execution_count": 10,
      "metadata": {
        "colab": {
          "base_uri": "https://localhost:8080/",
          "height": 424
        },
        "id": "zRD42ckZXTQM",
        "outputId": "c1881cdc-dd06-4597-90b0-97f1999c7ae5"
      },
      "outputs": [
        {
          "data": {
            "text/html": [
              "<div>\n",
              "<style scoped>\n",
              "    .dataframe tbody tr th:only-of-type {\n",
              "        vertical-align: middle;\n",
              "    }\n",
              "\n",
              "    .dataframe tbody tr th {\n",
              "        vertical-align: top;\n",
              "    }\n",
              "\n",
              "    .dataframe thead th {\n",
              "        text-align: right;\n",
              "    }\n",
              "</style>\n",
              "<table border=\"1\" class=\"dataframe\">\n",
              "  <thead>\n",
              "    <tr style=\"text-align: right;\">\n",
              "      <th></th>\n",
              "      <th>user_id</th>\n",
              "      <th>rating</th>\n",
              "      <th>parent_asin</th>\n",
              "      <th>verified_purchase</th>\n",
              "    </tr>\n",
              "  </thead>\n",
              "  <tbody>\n",
              "    <tr>\n",
              "      <th>0</th>\n",
              "      <td>AE2226PENZTTCDKFGRTUCUX2NU2Q</td>\n",
              "      <td>5</td>\n",
              "      <td>B01DECWM0G</td>\n",
              "      <td>True</td>\n",
              "    </tr>\n",
              "    <tr>\n",
              "      <th>0</th>\n",
              "      <td>AE2226PENZTTCDKFGRTUCUX2NU2Q</td>\n",
              "      <td>5</td>\n",
              "      <td>B00HU25WSQ</td>\n",
              "      <td>False</td>\n",
              "    </tr>\n",
              "    <tr>\n",
              "      <th>1</th>\n",
              "      <td>AE2252DKW4XJIZP5QPFMQVJBVRTA</td>\n",
              "      <td>5</td>\n",
              "      <td>B07F2NZWY5</td>\n",
              "      <td>True</td>\n",
              "    </tr>\n",
              "    <tr>\n",
              "      <th>1</th>\n",
              "      <td>AE2252DKW4XJIZP5QPFMQVJBVRTA</td>\n",
              "      <td>4</td>\n",
              "      <td>B091R14NS3</td>\n",
              "      <td>True</td>\n",
              "    </tr>\n",
              "    <tr>\n",
              "      <th>2</th>\n",
              "      <td>AE225P7FIMCUQD3TPAOF5LSGCLYQ</td>\n",
              "      <td>4</td>\n",
              "      <td>B0757Q45NK</td>\n",
              "      <td>True</td>\n",
              "    </tr>\n",
              "    <tr>\n",
              "      <th>...</th>\n",
              "      <td>...</td>\n",
              "      <td>...</td>\n",
              "      <td>...</td>\n",
              "      <td>...</td>\n",
              "    </tr>\n",
              "    <tr>\n",
              "      <th>85035</th>\n",
              "      <td>AHZZX3DQ6IZHVV7GI77GL4PAQKCA</td>\n",
              "      <td>5</td>\n",
              "      <td>B07635X9VJ</td>\n",
              "      <td>True</td>\n",
              "    </tr>\n",
              "    <tr>\n",
              "      <th>85036</th>\n",
              "      <td>AHZZXAWBVWME2D72MMSB6HU7TCAA</td>\n",
              "      <td>5</td>\n",
              "      <td>B09M7CRWH3</td>\n",
              "      <td>True</td>\n",
              "    </tr>\n",
              "    <tr>\n",
              "      <th>85036</th>\n",
              "      <td>AHZZXAWBVWME2D72MMSB6HU7TCAA</td>\n",
              "      <td>5</td>\n",
              "      <td>B0BFKQ9QXD</td>\n",
              "      <td>True</td>\n",
              "    </tr>\n",
              "    <tr>\n",
              "      <th>85036</th>\n",
              "      <td>AHZZXAWBVWME2D72MMSB6HU7TCAA</td>\n",
              "      <td>4</td>\n",
              "      <td>B09V91H5XM</td>\n",
              "      <td>True</td>\n",
              "    </tr>\n",
              "    <tr>\n",
              "      <th>85036</th>\n",
              "      <td>AHZZXAWBVWME2D72MMSB6HU7TCAA</td>\n",
              "      <td>5</td>\n",
              "      <td>B0BKZ3GCGR</td>\n",
              "      <td>True</td>\n",
              "    </tr>\n",
              "  </tbody>\n",
              "</table>\n",
              "<p>250965 rows × 4 columns</p>\n",
              "</div>"
            ],
            "text/plain": [
              "                            user_id rating parent_asin verified_purchase\n",
              "0      AE2226PENZTTCDKFGRTUCUX2NU2Q      5  B01DECWM0G              True\n",
              "0      AE2226PENZTTCDKFGRTUCUX2NU2Q      5  B00HU25WSQ             False\n",
              "1      AE2252DKW4XJIZP5QPFMQVJBVRTA      5  B07F2NZWY5              True\n",
              "1      AE2252DKW4XJIZP5QPFMQVJBVRTA      4  B091R14NS3              True\n",
              "2      AE225P7FIMCUQD3TPAOF5LSGCLYQ      4  B0757Q45NK              True\n",
              "...                             ...    ...         ...               ...\n",
              "85035  AHZZX3DQ6IZHVV7GI77GL4PAQKCA      5  B07635X9VJ              True\n",
              "85036  AHZZXAWBVWME2D72MMSB6HU7TCAA      5  B09M7CRWH3              True\n",
              "85036  AHZZXAWBVWME2D72MMSB6HU7TCAA      5  B0BFKQ9QXD              True\n",
              "85036  AHZZXAWBVWME2D72MMSB6HU7TCAA      4  B09V91H5XM              True\n",
              "85036  AHZZXAWBVWME2D72MMSB6HU7TCAA      5  B0BKZ3GCGR              True\n",
              "\n",
              "[250965 rows x 4 columns]"
            ]
          },
          "execution_count": 10,
          "metadata": {},
          "output_type": "execute_result"
        }
      ],
      "source": [
        "df_exploded"
      ]
    },
    {
      "cell_type": "code",
      "execution_count": 11,
      "metadata": {
        "id": "RaW5u_erXb_i"
      },
      "outputs": [
        {
          "data": {
            "text/plain": [
              "(29356, 12)"
            ]
          },
          "execution_count": 11,
          "metadata": {},
          "output_type": "execute_result"
        }
      ],
      "source": [
        "metadf.shape"
      ]
    },
    {
      "cell_type": "code",
      "execution_count": 12,
      "metadata": {
        "id": "5NKr8ubyPb9Z"
      },
      "outputs": [],
      "source": [
        "# Step 1: Count the number of ratings per user\n",
        "user_rating_counts = df_exploded.groupby('user_id').size()\n",
        "\n",
        "# Step 2: Create a boxplot to visualize outliers\n",
        "#plt.figure(figsize=(10, 6))\n",
        "#sns.boxplot(x=user_rating_counts)\n",
        "\n",
        "# Step 3: Add titles and labels\n",
        "#plt.title('Boxplot of Number of Reviews per User', fontsize=16)\n",
        "#plt.xlabel('Number of Reviews', fontsize=12)\n",
        "\n",
        "# Step 4: Show the plot\n",
        "#plt.show()"
      ]
    },
    {
      "cell_type": "code",
      "execution_count": 13,
      "metadata": {
        "id": "JLEgv-kVXoKo"
      },
      "outputs": [
        {
          "name": "stdout",
          "output_type": "stream",
          "text": [
            "Filtered DataFrame (users without outliers):\n",
            "(180825, 4)\n"
          ]
        }
      ],
      "source": [
        "# Step 1: Count the number of ratings per user\n",
        "user_rating_counts = df_exploded.groupby('user_id').size()\n",
        "\n",
        "# Step 2: Calculate IQR to detect outliers\n",
        "Q1 = np.percentile(user_rating_counts, 25)  # First quartile (25%)\n",
        "Q3 = np.percentile(user_rating_counts, 75)  # Third quartile (75%)\n",
        "IQR = Q3 - Q1  # Interquartile Range\n",
        "\n",
        "# Step 3: Define the lower and upper bounds to detect outliers\n",
        "lower_bound = Q1 - 1.5 * IQR\n",
        "upper_bound = Q3 + 1.5 * IQR\n",
        "\n",
        "# Step 4: Filter users within the bounds (i.e., non-outliers)\n",
        "non_outlier_users = user_rating_counts[(user_rating_counts >= lower_bound) & (user_rating_counts <= upper_bound)].index\n",
        "\n",
        "# Step 5: Keep only the rows of users that are not outliers\n",
        "df_filtered_no_outliers = df_exploded[df_exploded['user_id'].isin(non_outlier_users)]\n",
        "\n",
        "# Step 6: Show the shape of the filtered DataFrame\n",
        "print(\"Filtered DataFrame (users without outliers):\")\n",
        "print(df_filtered_no_outliers.shape)"
      ]
    },
    {
      "cell_type": "code",
      "execution_count": 14,
      "metadata": {
        "id": "-fiOgtNUJJsz"
      },
      "outputs": [
        {
          "data": {
            "text/html": [
              "<div>\n",
              "<style scoped>\n",
              "    .dataframe tbody tr th:only-of-type {\n",
              "        vertical-align: middle;\n",
              "    }\n",
              "\n",
              "    .dataframe tbody tr th {\n",
              "        vertical-align: top;\n",
              "    }\n",
              "\n",
              "    .dataframe thead th {\n",
              "        text-align: right;\n",
              "    }\n",
              "</style>\n",
              "<table border=\"1\" class=\"dataframe\">\n",
              "  <thead>\n",
              "    <tr style=\"text-align: right;\">\n",
              "      <th></th>\n",
              "      <th>user_id</th>\n",
              "      <th>rating</th>\n",
              "      <th>parent_asin</th>\n",
              "      <th>verified_purchase</th>\n",
              "    </tr>\n",
              "  </thead>\n",
              "  <tbody>\n",
              "    <tr>\n",
              "      <th>0</th>\n",
              "      <td>AE2226PENZTTCDKFGRTUCUX2NU2Q</td>\n",
              "      <td>5</td>\n",
              "      <td>B01DECWM0G</td>\n",
              "      <td>True</td>\n",
              "    </tr>\n",
              "    <tr>\n",
              "      <th>0</th>\n",
              "      <td>AE2226PENZTTCDKFGRTUCUX2NU2Q</td>\n",
              "      <td>5</td>\n",
              "      <td>B00HU25WSQ</td>\n",
              "      <td>False</td>\n",
              "    </tr>\n",
              "    <tr>\n",
              "      <th>1</th>\n",
              "      <td>AE2252DKW4XJIZP5QPFMQVJBVRTA</td>\n",
              "      <td>5</td>\n",
              "      <td>B07F2NZWY5</td>\n",
              "      <td>True</td>\n",
              "    </tr>\n",
              "    <tr>\n",
              "      <th>1</th>\n",
              "      <td>AE2252DKW4XJIZP5QPFMQVJBVRTA</td>\n",
              "      <td>4</td>\n",
              "      <td>B091R14NS3</td>\n",
              "      <td>True</td>\n",
              "    </tr>\n",
              "    <tr>\n",
              "      <th>2</th>\n",
              "      <td>AE225P7FIMCUQD3TPAOF5LSGCLYQ</td>\n",
              "      <td>4</td>\n",
              "      <td>B0757Q45NK</td>\n",
              "      <td>True</td>\n",
              "    </tr>\n",
              "    <tr>\n",
              "      <th>...</th>\n",
              "      <td>...</td>\n",
              "      <td>...</td>\n",
              "      <td>...</td>\n",
              "      <td>...</td>\n",
              "    </tr>\n",
              "    <tr>\n",
              "      <th>85035</th>\n",
              "      <td>AHZZX3DQ6IZHVV7GI77GL4PAQKCA</td>\n",
              "      <td>5</td>\n",
              "      <td>B07635X9VJ</td>\n",
              "      <td>True</td>\n",
              "    </tr>\n",
              "    <tr>\n",
              "      <th>85036</th>\n",
              "      <td>AHZZXAWBVWME2D72MMSB6HU7TCAA</td>\n",
              "      <td>5</td>\n",
              "      <td>B09M7CRWH3</td>\n",
              "      <td>True</td>\n",
              "    </tr>\n",
              "    <tr>\n",
              "      <th>85036</th>\n",
              "      <td>AHZZXAWBVWME2D72MMSB6HU7TCAA</td>\n",
              "      <td>5</td>\n",
              "      <td>B0BFKQ9QXD</td>\n",
              "      <td>True</td>\n",
              "    </tr>\n",
              "    <tr>\n",
              "      <th>85036</th>\n",
              "      <td>AHZZXAWBVWME2D72MMSB6HU7TCAA</td>\n",
              "      <td>4</td>\n",
              "      <td>B09V91H5XM</td>\n",
              "      <td>True</td>\n",
              "    </tr>\n",
              "    <tr>\n",
              "      <th>85036</th>\n",
              "      <td>AHZZXAWBVWME2D72MMSB6HU7TCAA</td>\n",
              "      <td>5</td>\n",
              "      <td>B0BKZ3GCGR</td>\n",
              "      <td>True</td>\n",
              "    </tr>\n",
              "  </tbody>\n",
              "</table>\n",
              "<p>180825 rows × 4 columns</p>\n",
              "</div>"
            ],
            "text/plain": [
              "                            user_id rating parent_asin verified_purchase\n",
              "0      AE2226PENZTTCDKFGRTUCUX2NU2Q      5  B01DECWM0G              True\n",
              "0      AE2226PENZTTCDKFGRTUCUX2NU2Q      5  B00HU25WSQ             False\n",
              "1      AE2252DKW4XJIZP5QPFMQVJBVRTA      5  B07F2NZWY5              True\n",
              "1      AE2252DKW4XJIZP5QPFMQVJBVRTA      4  B091R14NS3              True\n",
              "2      AE225P7FIMCUQD3TPAOF5LSGCLYQ      4  B0757Q45NK              True\n",
              "...                             ...    ...         ...               ...\n",
              "85035  AHZZX3DQ6IZHVV7GI77GL4PAQKCA      5  B07635X9VJ              True\n",
              "85036  AHZZXAWBVWME2D72MMSB6HU7TCAA      5  B09M7CRWH3              True\n",
              "85036  AHZZXAWBVWME2D72MMSB6HU7TCAA      5  B0BFKQ9QXD              True\n",
              "85036  AHZZXAWBVWME2D72MMSB6HU7TCAA      4  B09V91H5XM              True\n",
              "85036  AHZZXAWBVWME2D72MMSB6HU7TCAA      5  B0BKZ3GCGR              True\n",
              "\n",
              "[180825 rows x 4 columns]"
            ]
          },
          "execution_count": 14,
          "metadata": {},
          "output_type": "execute_result"
        }
      ],
      "source": [
        "df_filtered_no_outliers"
      ]
    },
    {
      "cell_type": "code",
      "execution_count": 15,
      "metadata": {
        "id": "WOeB7H_CJP3o"
      },
      "outputs": [
        {
          "name": "stdout",
          "output_type": "stream",
          "text": [
            "user_id              0\n",
            "rating               0\n",
            "parent_asin          0\n",
            "verified_purchase    0\n",
            "dtype: int64\n"
          ]
        }
      ],
      "source": [
        "null_values = df_filtered_no_outliers.isnull().sum()\n",
        "\n",
        "# Print the result\n",
        "print(null_values)"
      ]
    },
    {
      "cell_type": "markdown",
      "metadata": {
        "id": "Kdm2e0R9J--H"
      },
      "source": [
        "# Most Popular Product Reccomendation\n",
        "Most Populer product reccomendation based on average_rating and rating_number."
      ]
    },
    {
      "cell_type": "code",
      "execution_count": 16,
      "metadata": {
        "id": "HvPgNCzEKdmW"
      },
      "outputs": [],
      "source": [
        "#sns.histplot(metadf['rating_number'], bins=30, kde=False)\n",
        "#plt.title(\"Distribution of the number of ratings per item\")\n",
        "#plt.xlabel(\"Number of Ratings\")\n",
        "#plt.ylabel(\"Count of Items\")\n",
        "#plt.show()"
      ]
    },
    {
      "cell_type": "code",
      "execution_count": 17,
      "metadata": {
        "id": "tA9BHQZ2bRWE"
      },
      "outputs": [],
      "source": [
        "# Round the 'average_rating' to the nearest 0.5\n",
        "metadf['rounded_rating'] = np.round(metadf['average_rating'] * 2) / 2\n",
        "\n",
        "# Plot the distribution of the rounded ratings\n",
        "#sns.countplot(x=\"rounded_rating\", data=metadf, palette=\"viridis\")\n",
        "#plt.title(\"Distribution of product ratings (rounded to nearest 0.5)\", fontsize=14)\n",
        "#plt.show()"
      ]
    },
    {
      "cell_type": "code",
      "execution_count": 18,
      "metadata": {
        "id": "CQiTMzFscKoI"
      },
      "outputs": [
        {
          "name": "stdout",
          "output_type": "stream",
          "text": [
            "75th percentile of rating counts: 57.0\n"
          ]
        },
        {
          "data": {
            "text/html": [
              "<div>\n",
              "<style scoped>\n",
              "    .dataframe tbody tr th:only-of-type {\n",
              "        vertical-align: middle;\n",
              "    }\n",
              "\n",
              "    .dataframe tbody tr th {\n",
              "        vertical-align: top;\n",
              "    }\n",
              "\n",
              "    .dataframe thead th {\n",
              "        text-align: right;\n",
              "    }\n",
              "</style>\n",
              "<table border=\"1\" class=\"dataframe\">\n",
              "  <thead>\n",
              "    <tr style=\"text-align: right;\">\n",
              "      <th></th>\n",
              "      <th>Unnamed: 0</th>\n",
              "      <th>title</th>\n",
              "      <th>average_rating</th>\n",
              "      <th>rating_number</th>\n",
              "      <th>features</th>\n",
              "      <th>description</th>\n",
              "      <th>price</th>\n",
              "      <th>images</th>\n",
              "      <th>store</th>\n",
              "      <th>categories</th>\n",
              "      <th>details</th>\n",
              "      <th>parent_asin</th>\n",
              "      <th>rounded_rating</th>\n",
              "      <th>bayesian_average</th>\n",
              "    </tr>\n",
              "  </thead>\n",
              "  <tbody>\n",
              "    <tr>\n",
              "      <th>6602</th>\n",
              "      <td>4</td>\n",
              "      <td>Shure SM7B Vocal Dynamic Microphone for Broadc...</td>\n",
              "      <td>4.9</td>\n",
              "      <td>9512</td>\n",
              "      <td>['ONE MICROPHONE FOR EVERYTHING - Studio Recor...</td>\n",
              "      <td>['The SM7B dynamic microphone has a smooth, fl...</td>\n",
              "      <td>399.00</td>\n",
              "      <td>{'hi_res': 'https://m.media-amazon.com/images/...</td>\n",
              "      <td>Shure</td>\n",
              "      <td>['Microphones &amp; Accessories', 'Microphones', '...</td>\n",
              "      <td>{'Item Weight': '2.7 pounds', 'Product Dimensi...</td>\n",
              "      <td>B0B89ZSYS7</td>\n",
              "      <td>5.0</td>\n",
              "      <td>4.896281</td>\n",
              "    </tr>\n",
              "    <tr>\n",
              "      <th>16936</th>\n",
              "      <td>13972</td>\n",
              "      <td>Jim Dunlop Tortex Standard 1.14mm Purple Guita...</td>\n",
              "      <td>4.9</td>\n",
              "      <td>4367</td>\n",
              "      <td>['The Pick used by top musicians worldwide', '...</td>\n",
              "      <td>['The pick used by top musicians worldwide. To...</td>\n",
              "      <td>16.47</td>\n",
              "      <td>{'hi_res': 'https://m.media-amazon.com/images/...</td>\n",
              "      <td>JIM DUNLOP</td>\n",
              "      <td>['Instrument Accessories', 'Guitar &amp; Bass Acce...</td>\n",
              "      <td>{'Item Weight': '1.12 ounces', 'Product Dimens...</td>\n",
              "      <td>B07F5PX9Y3</td>\n",
              "      <td>5.0</td>\n",
              "      <td>4.891956</td>\n",
              "    </tr>\n",
              "    <tr>\n",
              "      <th>16377</th>\n",
              "      <td>2941</td>\n",
              "      <td>Evans Genera HD Dry Snare Drum Head, 13” (Whit...</td>\n",
              "      <td>4.9</td>\n",
              "      <td>1729</td>\n",
              "      <td>['TWO PLIES OF FILM – The 13” Evans Genera HD ...</td>\n",
              "      <td>['Product Description', 'Whether you play rock...</td>\n",
              "      <td>21.99</td>\n",
              "      <td>{'hi_res': 'https://m.media-amazon.com/images/...</td>\n",
              "      <td>Evans</td>\n",
              "      <td>['Instrument Accessories', 'Drum &amp; Percussion ...</td>\n",
              "      <td>{'Item Weight': '0.6 Pounds', 'Product Dimensi...</td>\n",
              "      <td>B0BK6S7QF4</td>\n",
              "      <td>5.0</td>\n",
              "      <td>4.880075</td>\n",
              "    </tr>\n",
              "    <tr>\n",
              "      <th>19791</th>\n",
              "      <td>6102</td>\n",
              "      <td>Remo E1-0312-00 Buffalo Drum - Standard, 12\"</td>\n",
              "      <td>4.9</td>\n",
              "      <td>1701</td>\n",
              "      <td>['12\" diameter x 3.5\" thick pre-tuned buffalo ...</td>\n",
              "      <td>['E10312-00 Size: 12\" x 3.5\" Features: -Buffal...</td>\n",
              "      <td>71.95</td>\n",
              "      <td>{'hi_res': 'https://m.media-amazon.com/images/...</td>\n",
              "      <td>Remo</td>\n",
              "      <td>['Drums &amp; Percussion', 'Folk &amp; World Hand Drum...</td>\n",
              "      <td>{'Item Weight': '0.8 ounces', 'Product Dimensi...</td>\n",
              "      <td>B09RCVDQ8M</td>\n",
              "      <td>5.0</td>\n",
              "      <td>4.879758</td>\n",
              "    </tr>\n",
              "    <tr>\n",
              "      <th>8066</th>\n",
              "      <td>166524</td>\n",
              "      <td>Remo Buffalo Drum - Black Earth, 16\"</td>\n",
              "      <td>4.9</td>\n",
              "      <td>1079</td>\n",
              "      <td>['Size: 16\" Diameter, 3. 5\" Depth', 'Produces ...</td>\n",
              "      <td>['The Bahia bass buffalo drums produce a low f...</td>\n",
              "      <td>104.95</td>\n",
              "      <td>{'hi_res': 'https://m.media-amazon.com/images/...</td>\n",
              "      <td>Remo</td>\n",
              "      <td>['Drums &amp; Percussion', 'Drum Sets &amp; Set Compon...</td>\n",
              "      <td>{'Item Weight': '16 Ounces', 'Product Dimensio...</td>\n",
              "      <td>B0BLVHR9MG</td>\n",
              "      <td>5.0</td>\n",
              "      <td>4.868675</td>\n",
              "    </tr>\n",
              "    <tr>\n",
              "      <th>85</th>\n",
              "      <td>21417</td>\n",
              "      <td>Evans REMAD Resonant Bass Drum Head, 20 Inch</td>\n",
              "      <td>4.9</td>\n",
              "      <td>724</td>\n",
              "      <td>['20\" resonant drum head made using a single p...</td>\n",
              "      <td>['With accentuated low-end response, the EMAD ...</td>\n",
              "      <td>52.99</td>\n",
              "      <td>{'hi_res': 'https://m.media-amazon.com/images/...</td>\n",
              "      <td>Evans</td>\n",
              "      <td>['Instrument Accessories', 'Drum &amp; Percussion ...</td>\n",
              "      <td>{'Item Weight': '1.63 pounds', 'Item model num...</td>\n",
              "      <td>B09HCVK9HL</td>\n",
              "      <td>5.0</td>\n",
              "      <td>4.854436</td>\n",
              "    </tr>\n",
              "    <tr>\n",
              "      <th>2648</th>\n",
              "      <td>108783</td>\n",
              "      <td>Sennheiser Professional e 609 Silver Super-Car...</td>\n",
              "      <td>4.9</td>\n",
              "      <td>722</td>\n",
              "      <td>['Supercardioid pickup pattern: Provides insul...</td>\n",
              "      <td>['Product Description', \"Sennheiser e609 Silve...</td>\n",
              "      <td>99.95</td>\n",
              "      <td>{'hi_res': 'https://m.media-amazon.com/images/...</td>\n",
              "      <td>Sennheiser Pro Audio</td>\n",
              "      <td>['Microphones &amp; Accessories', 'Microphones', '...</td>\n",
              "      <td>{'Item Weight': '4.4 ounces', 'Product Dimensi...</td>\n",
              "      <td>B073WND433</td>\n",
              "      <td>5.0</td>\n",
              "      <td>4.854319</td>\n",
              "    </tr>\n",
              "    <tr>\n",
              "      <th>15475</th>\n",
              "      <td>139476</td>\n",
              "      <td>GraphTech PQL-7004-00 TUSQ Sleek String Trees</td>\n",
              "      <td>4.9</td>\n",
              "      <td>680</td>\n",
              "      <td>['Two XL string trees', 'Two long chrome screw...</td>\n",
              "      <td>['TUSQ Sleek String Trees']</td>\n",
              "      <td>13.98</td>\n",
              "      <td>{'hi_res': 'https://m.media-amazon.com/images/...</td>\n",
              "      <td>Graph Tech</td>\n",
              "      <td>['Instrument Accessories', 'Guitar &amp; Bass Acce...</td>\n",
              "      <td>{'Item Weight': '0.81 ounces', 'Product Dimens...</td>\n",
              "      <td>B0B29LK8QD</td>\n",
              "      <td>5.0</td>\n",
              "      <td>4.851716</td>\n",
              "    </tr>\n",
              "    <tr>\n",
              "      <th>20820</th>\n",
              "      <td>97017</td>\n",
              "      <td>Jim Dunlop Hetfield's White Fang Custom 1.14mm...</td>\n",
              "      <td>4.9</td>\n",
              "      <td>678</td>\n",
              "      <td>['Combines the specially engineered shape of F...</td>\n",
              "      <td>[\"Jim Dunlop Hetfield's White Fang Custom 1.14...</td>\n",
              "      <td>12.59</td>\n",
              "      <td>{'hi_res': 'https://m.media-amazon.com/images/...</td>\n",
              "      <td>JIM DUNLOP</td>\n",
              "      <td>['Instrument Accessories', 'Guitar &amp; Bass Acce...</td>\n",
              "      <td>{'Item Weight': '0.634 ounces', 'Product Dimen...</td>\n",
              "      <td>B0B8Z1RBY4</td>\n",
              "      <td>5.0</td>\n",
              "      <td>4.851585</td>\n",
              "    </tr>\n",
              "    <tr>\n",
              "      <th>4910</th>\n",
              "      <td>88759</td>\n",
              "      <td>Ernie Ball 2221 Nickel Slinky Lime Guitar Stri...</td>\n",
              "      <td>4.9</td>\n",
              "      <td>604</td>\n",
              "      <td>['Nickel-plated steel wire wrapped around tin-...</td>\n",
              "      <td>['What a deal! Two free packs of Slinkys when ...</td>\n",
              "      <td>59.88</td>\n",
              "      <td>{'hi_res': 'https://m.media-amazon.com/images/...</td>\n",
              "      <td>Ernie Ball</td>\n",
              "      <td>['Instrument Accessories', 'Guitar &amp; Bass Acce...</td>\n",
              "      <td>{'Item Weight': '15.2 ounces', 'Product Dimens...</td>\n",
              "      <td>B004HNZZCY</td>\n",
              "      <td>5.0</td>\n",
              "      <td>4.846164</td>\n",
              "    </tr>\n",
              "  </tbody>\n",
              "</table>\n",
              "</div>"
            ],
            "text/plain": [
              "       Unnamed: 0                                              title  \\\n",
              "6602            4  Shure SM7B Vocal Dynamic Microphone for Broadc...   \n",
              "16936       13972  Jim Dunlop Tortex Standard 1.14mm Purple Guita...   \n",
              "16377        2941  Evans Genera HD Dry Snare Drum Head, 13” (Whit...   \n",
              "19791        6102       Remo E1-0312-00 Buffalo Drum - Standard, 12\"   \n",
              "8066       166524               Remo Buffalo Drum - Black Earth, 16\"   \n",
              "85          21417       Evans REMAD Resonant Bass Drum Head, 20 Inch   \n",
              "2648       108783  Sennheiser Professional e 609 Silver Super-Car...   \n",
              "15475      139476      GraphTech PQL-7004-00 TUSQ Sleek String Trees   \n",
              "20820       97017  Jim Dunlop Hetfield's White Fang Custom 1.14mm...   \n",
              "4910        88759  Ernie Ball 2221 Nickel Slinky Lime Guitar Stri...   \n",
              "\n",
              "       average_rating  rating_number  \\\n",
              "6602              4.9           9512   \n",
              "16936             4.9           4367   \n",
              "16377             4.9           1729   \n",
              "19791             4.9           1701   \n",
              "8066              4.9           1079   \n",
              "85                4.9            724   \n",
              "2648              4.9            722   \n",
              "15475             4.9            680   \n",
              "20820             4.9            678   \n",
              "4910              4.9            604   \n",
              "\n",
              "                                                features  \\\n",
              "6602   ['ONE MICROPHONE FOR EVERYTHING - Studio Recor...   \n",
              "16936  ['The Pick used by top musicians worldwide', '...   \n",
              "16377  ['TWO PLIES OF FILM – The 13” Evans Genera HD ...   \n",
              "19791  ['12\" diameter x 3.5\" thick pre-tuned buffalo ...   \n",
              "8066   ['Size: 16\" Diameter, 3. 5\" Depth', 'Produces ...   \n",
              "85     ['20\" resonant drum head made using a single p...   \n",
              "2648   ['Supercardioid pickup pattern: Provides insul...   \n",
              "15475  ['Two XL string trees', 'Two long chrome screw...   \n",
              "20820  ['Combines the specially engineered shape of F...   \n",
              "4910   ['Nickel-plated steel wire wrapped around tin-...   \n",
              "\n",
              "                                             description   price  \\\n",
              "6602   ['The SM7B dynamic microphone has a smooth, fl...  399.00   \n",
              "16936  ['The pick used by top musicians worldwide. To...   16.47   \n",
              "16377  ['Product Description', 'Whether you play rock...   21.99   \n",
              "19791  ['E10312-00 Size: 12\" x 3.5\" Features: -Buffal...   71.95   \n",
              "8066   ['The Bahia bass buffalo drums produce a low f...  104.95   \n",
              "85     ['With accentuated low-end response, the EMAD ...   52.99   \n",
              "2648   ['Product Description', \"Sennheiser e609 Silve...   99.95   \n",
              "15475                        ['TUSQ Sleek String Trees']   13.98   \n",
              "20820  [\"Jim Dunlop Hetfield's White Fang Custom 1.14...   12.59   \n",
              "4910   ['What a deal! Two free packs of Slinkys when ...   59.88   \n",
              "\n",
              "                                                  images  \\\n",
              "6602   {'hi_res': 'https://m.media-amazon.com/images/...   \n",
              "16936  {'hi_res': 'https://m.media-amazon.com/images/...   \n",
              "16377  {'hi_res': 'https://m.media-amazon.com/images/...   \n",
              "19791  {'hi_res': 'https://m.media-amazon.com/images/...   \n",
              "8066   {'hi_res': 'https://m.media-amazon.com/images/...   \n",
              "85     {'hi_res': 'https://m.media-amazon.com/images/...   \n",
              "2648   {'hi_res': 'https://m.media-amazon.com/images/...   \n",
              "15475  {'hi_res': 'https://m.media-amazon.com/images/...   \n",
              "20820  {'hi_res': 'https://m.media-amazon.com/images/...   \n",
              "4910   {'hi_res': 'https://m.media-amazon.com/images/...   \n",
              "\n",
              "                      store  \\\n",
              "6602                  Shure   \n",
              "16936            JIM DUNLOP   \n",
              "16377                 Evans   \n",
              "19791                  Remo   \n",
              "8066                   Remo   \n",
              "85                    Evans   \n",
              "2648   Sennheiser Pro Audio   \n",
              "15475            Graph Tech   \n",
              "20820            JIM DUNLOP   \n",
              "4910             Ernie Ball   \n",
              "\n",
              "                                              categories  \\\n",
              "6602   ['Microphones & Accessories', 'Microphones', '...   \n",
              "16936  ['Instrument Accessories', 'Guitar & Bass Acce...   \n",
              "16377  ['Instrument Accessories', 'Drum & Percussion ...   \n",
              "19791  ['Drums & Percussion', 'Folk & World Hand Drum...   \n",
              "8066   ['Drums & Percussion', 'Drum Sets & Set Compon...   \n",
              "85     ['Instrument Accessories', 'Drum & Percussion ...   \n",
              "2648   ['Microphones & Accessories', 'Microphones', '...   \n",
              "15475  ['Instrument Accessories', 'Guitar & Bass Acce...   \n",
              "20820  ['Instrument Accessories', 'Guitar & Bass Acce...   \n",
              "4910   ['Instrument Accessories', 'Guitar & Bass Acce...   \n",
              "\n",
              "                                                 details parent_asin  \\\n",
              "6602   {'Item Weight': '2.7 pounds', 'Product Dimensi...  B0B89ZSYS7   \n",
              "16936  {'Item Weight': '1.12 ounces', 'Product Dimens...  B07F5PX9Y3   \n",
              "16377  {'Item Weight': '0.6 Pounds', 'Product Dimensi...  B0BK6S7QF4   \n",
              "19791  {'Item Weight': '0.8 ounces', 'Product Dimensi...  B09RCVDQ8M   \n",
              "8066   {'Item Weight': '16 Ounces', 'Product Dimensio...  B0BLVHR9MG   \n",
              "85     {'Item Weight': '1.63 pounds', 'Item model num...  B09HCVK9HL   \n",
              "2648   {'Item Weight': '4.4 ounces', 'Product Dimensi...  B073WND433   \n",
              "15475  {'Item Weight': '0.81 ounces', 'Product Dimens...  B0B29LK8QD   \n",
              "20820  {'Item Weight': '0.634 ounces', 'Product Dimen...  B0B8Z1RBY4   \n",
              "4910   {'Item Weight': '15.2 ounces', 'Product Dimens...  B004HNZZCY   \n",
              "\n",
              "       rounded_rating  bayesian_average  \n",
              "6602              5.0          4.896281  \n",
              "16936             5.0          4.891956  \n",
              "16377             5.0          4.880075  \n",
              "19791             5.0          4.879758  \n",
              "8066              5.0          4.868675  \n",
              "85                5.0          4.854436  \n",
              "2648              5.0          4.854319  \n",
              "15475             5.0          4.851716  \n",
              "20820             5.0          4.851585  \n",
              "4910              5.0          4.846164  "
            ]
          },
          "execution_count": 18,
          "metadata": {},
          "output_type": "execute_result"
        }
      ],
      "source": [
        "# Calculate the overall average rating\n",
        "overall_average = metadf['average_rating'].mean()\n",
        "\n",
        "# Set a minimum count of ratings to consider\n",
        "C = metadf['rating_number'].quantile(0.75)\n",
        "print(f\"75th percentile of rating counts: {C}\")\n",
        "\n",
        "# Calculate Bayesian average for each item\n",
        "metadf['bayesian_average'] = (metadf['rating_number'] * metadf['average_rating'] + C * overall_average) / (metadf['rating_number'] + C)\n",
        "\n",
        "# Rank items based on the Bayesian average\n",
        "ranked_items = metadf.nlargest(10, 'bayesian_average')\n",
        "\n",
        "# Display the results\n",
        "ranked_items.sort_values('bayesian_average', ascending=False).head(10)"
      ]
    },
    {
      "cell_type": "markdown",
      "metadata": {
        "id": "mLnEtnI132Az"
      },
      "source": [
        "# Check Sparsity"
      ]
    },
    {
      "cell_type": "code",
      "execution_count": 19,
      "metadata": {
        "id": "SQx7SU9G4Ax1"
      },
      "outputs": [
        {
          "name": "stdout",
          "output_type": "stream",
          "text": [
            "Data types after explosion:\n",
            "user_id               object\n",
            "rating               float64\n",
            "parent_asin           object\n",
            "verified_purchase     object\n",
            "dtype: object\n",
            "Number of unique users (M): 85037\n",
            "Number of unique items (N): 22103\n"
          ]
        }
      ],
      "source": [
        "from scipy.sparse import csr_matrix\n",
        "\n",
        "def create_X_custom(df):\n",
        "    \"\"\"\n",
        "    Generates a sparse matrix from a DataFrame containing user ratings for products.\n",
        "\n",
        "    Args:\n",
        "        df: pandas DataFrame containing user_id, parent_asin, and ratings (as lists)\n",
        "\n",
        "    Returns:\n",
        "        X: sparse matrix\n",
        "        user_mapper: dict that maps user id's to user indices\n",
        "        user_inv_mapper: dict that maps user indices to user id's\n",
        "        item_mapper: dict that maps item id's to item indices\n",
        "        item_inv_mapper: dict that maps item indices to item id's\n",
        "    \"\"\"\n",
        "    # Explode the DataFrame to create individual rows for each rating\n",
        "    #df_filtered_no_outliers = df.explode(['rating', 'parent_asin'])\n",
        "\n",
        "    # Ensure the rating column contains numeric values\n",
        "    df_exploded['rating'] = df_exploded['rating'].astype(float)\n",
        "\n",
        "    # Check data types\n",
        "    print(\"Data types after explosion:\")\n",
        "    print(df_exploded.dtypes)\n",
        "\n",
        "    # Count unique users and items\n",
        "    M =  df_exploded['user_id'].nunique()  # Unique users\n",
        "    N =  df_exploded['parent_asin'].nunique()  # Unique items\n",
        "\n",
        "    # Print M and N\n",
        "    print(\"Number of unique users (M):\", M)\n",
        "    print(\"Number of unique items (N):\", N)\n",
        "\n",
        "    user_mapper = dict(zip(np.unique(df_exploded[\"user_id\"]), list(range(M))))\n",
        "    item_mapper = dict(zip(np.unique(df_exploded[\"parent_asin\"]), list(range(N))))\n",
        "\n",
        "    user_inv_mapper = dict(zip(list(range(M)), np.unique(df_exploded[\"user_id\"])))\n",
        "    item_inv_mapper = dict(zip(list(range(N)), np.unique(df_exploded[\"parent_asin\"])))\n",
        "\n",
        "    user_index = [user_mapper[i] for i in df_exploded['user_id']]\n",
        "    item_index = [item_mapper[i] for i in df_exploded['parent_asin']]\n",
        "\n",
        "    # Create the sparse matrix\n",
        "    X = csr_matrix((df_exploded[\"rating\"], (user_index, item_index)), shape=(M, N))\n",
        "\n",
        "    return X, user_mapper, item_mapper, user_inv_mapper, item_inv_mapper\n",
        "\n",
        "# Example usage\n",
        "X, user_mapper, item_mapper, user_inv_mapper, item_inv_mapper = create_X_custom(df_filtered_no_outliers)"
      ]
    },
    {
      "cell_type": "code",
      "execution_count": 20,
      "metadata": {
        "id": "fCCWgbVz3BYB"
      },
      "outputs": [],
      "source": [
        "from scipy.io import mmwrite\n",
        "\n",
        "# Save the sparse matrix X to a file in Matrix Market format\n",
        "mmwrite('sparse_matrix.mtx', X)"
      ]
    },
    {
      "cell_type": "code",
      "execution_count": 21,
      "metadata": {
        "id": "m8Phu30y5YYB"
      },
      "outputs": [
        {
          "name": "stdout",
          "output_type": "stream",
          "text": [
            "Matrix sparsity: 0.01%\n"
          ]
        }
      ],
      "source": [
        "n_total = X.shape[0]*X.shape[1]\n",
        "n_ratings = X.nnz\n",
        "sparsity = n_ratings/n_total\n",
        "print(f\"Matrix sparsity: {round(sparsity*100,2)}%\")"
      ]
    },
    {
      "cell_type": "code",
      "execution_count": 22,
      "metadata": {
        "id": "yDFi38YR6kQV"
      },
      "outputs": [
        {
          "data": {
            "text/plain": [
              "85037"
            ]
          },
          "execution_count": 22,
          "metadata": {},
          "output_type": "execute_result"
        }
      ],
      "source": [
        "n_ratings_per_user = X.getnnz(axis=1)\n",
        "len(n_ratings_per_user)"
      ]
    },
    {
      "cell_type": "code",
      "execution_count": 23,
      "metadata": {
        "id": "J19-gmJy7hdL"
      },
      "outputs": [
        {
          "name": "stdout",
          "output_type": "stream",
          "text": [
            "Most active user rated 107 items.\n",
            "Least active user rated 1 items.\n"
          ]
        }
      ],
      "source": [
        "print(f\"Most active user rated {n_ratings_per_user.max()} items.\")\n",
        "print(f\"Least active user rated {n_ratings_per_user.min()} items.\")"
      ]
    },
    {
      "cell_type": "code",
      "execution_count": 24,
      "metadata": {
        "id": "ZYGGC6Nt7o1p"
      },
      "outputs": [
        {
          "name": "stdout",
          "output_type": "stream",
          "text": [
            "Most rated item has 1759 ratings.\n",
            "Least rated item has 1 ratings.\n"
          ]
        }
      ],
      "source": [
        "n_ratings_per_item = X.getnnz(axis=0)\n",
        "len(n_ratings_per_item)\n",
        "\n",
        "print(f\"Most rated item has {n_ratings_per_item.max()} ratings.\")\n",
        "print(f\"Least rated item has {n_ratings_per_item.min()} ratings.\")"
      ]
    },
    {
      "cell_type": "code",
      "execution_count": null,
      "metadata": {
        "id": "9LPIZuJA751U"
      },
      "outputs": [],
      "source": [
        "#plt.figure(figsize=(16,4))\n",
        "#plt.subplot(1,2,1)\n",
        "#sns.kdeplot(n_ratings_per_user, shade=True)\n",
        "#plt.xlim(0)\n",
        "# plt.title(\"Number of Ratings Per User\", fontsize=14)\n",
        "# plt.xlabel(\"number of ratings per user\")\n",
        "# plt.ylabel(\"density\")\n",
        "# plt.subplot(1,2,2)\n",
        "# sns.kdeplot(n_ratings_per_item, shade=True)\n",
        "# plt.xlim(0)\n",
        "# plt.title(\"Number of Ratings Per Item\", fontsize=14)\n",
        "# plt.xlabel(\"number of ratings per Item\")\n",
        "# plt.ylabel(\"density\")\n",
        "# plt.show()"
      ]
    },
    {
      "cell_type": "markdown",
      "metadata": {
        "id": "UDtV-Ptf9oDT"
      },
      "source": [
        "# Colaberative Filtering"
      ]
    },
    {
      "cell_type": "code",
      "execution_count": 25,
      "metadata": {
        "id": "GfJw8Lhs9v9e"
      },
      "outputs": [
        {
          "name": "stdout",
          "output_type": "stream",
          "text": [
            "Because you viewed/bought 'VocoPro (VHF4000', here are similar products:\n",
            "\n",
            "Similar Product:\n",
            "Title: Seismic Audio SATXSW-8x10 4-Channel 10-Feet Insert Snake Cable 8 TRS to 4 XLR Male and 4 XLR Female\n",
            "Features: ['Model #: SATXSW-8x10', '10 Foot Insert Snake Cable - 8 TRS to 4 XLR Male and 4 XLR Female', 'Insert Snake Cable', 'Channels: 4 Channel', 'Connectors: 8 TRS Male 1/4\" on one end']\n",
            "Description: ['10 Foot Insert Snake Cable - 8 TRS to 4 XLR Male and 4 XLR Female. Model #: SATXSW-8x10, 10 Foot Insert Snake Cable - 8 TRS to 4 XLR Male and 4 XLR Female, Insert Snake Cable, Channels: 4 Channel, Connectors: 8 TRS Male 1/4\" on one end, Connectors: 4 XLR Male and 4 XLR Female on the other end, Length: 10 Feet, Conductor: 22 ga high purity copper, Color coded and numerically labeled, Serviceable Ends, Condition: NEW, One Year Warranty The SATXSW model of snake cables are designed to carry insert signals from a mixing console to other pro audio equipment with XLR ins and outs This snake cable is ideal for connecting to processors or effects that are close to your mixing console. This 10 foot Insert snake cable is also the ideal solution for microphone and line level signals that are being sent to pro audio devices that have several outputs, like mixers, processors, effects, EQ and other gear that is housed in a rack case. Shielded and balanced, this snake is ideal for use in the recording studio or live applications. XLR male on one end, 1/4\" TRS on the other. 22g Oxygen-Free Copper (OFC) conductors for enhanced signal clarity and superior RF rejection. The wires on the fantail are color coded, making it easier to read and reduce any cross ups.']\n",
            "Price: 52.99\n",
            "Images: {'hi_res': 'https://m.media-amazon.com/images/I/61xV6Z-8IrL._SL1000_.jpg', 'large': 'https://m.media-amazon.com/images/I/4110HhqtUsL.jpg'}\n",
            "Store: Seismic Audio\n",
            "Categories: ['Live Sound & Stage', 'Stage & Studio Cables', 'Microphone Cables']\n",
            "Details: {'Brand': 'Seismic Audio', 'Connector Type': 'XLR', 'Cable Type': 'XLR', 'Compatible Devices': 'Microphone', 'Color': 'Black', 'Product Dimensions': '8 x 6 x 2 inches; 2.2 Pounds', 'Item model number': 'SATXSW-8x10', 'Date First Available': 'August 17, 2011', 'Manufacturer': 'Seismic Audio Speakers, Inc.'}\n",
            "\n",
            "Similar Product:\n",
            "Title: Yoico 2Pcs 6 Feet Professional Speakon to 1/4 Speaker Cable, Pair 10 ft 12 Gauge Speakon to 1/4 Male Inch Audio Amplifier Connection Heavy Duty Cord Wire with Twist Lock\n",
            "Features: ['❤Material advantages: Outer Material: Premium PVC-85P, Wire Material: Full Copper Wire, so it is soft lightweight but durable for a very long time, conduct quite well, environmental friendly. Pro Series Industrial Grade Construction, you will not be disappointed with performance of this cable.', '❤Main Feature:No need to worry about interrupted sound, static or loss of quality during an important gig because this stereo cable is made with highly durable construction and delivers premium performance without noise, static, or buzzing.', '❤This black 6 ft 12 gauge professional speaker cord by Yoico gives you sufficient allowance to move around for energetic on stage performances yet still provides ultimate audio delivery.', '❤Our Premium Speakon to 1/4 Inch Speaker Cables are perfect for mains, Subwoofer, Microphone, DJ Speakers, Stage Monitor,House Speaker, Audio Amplifier where a high power environment is involved.', '❤High-quality and ending with a commitment to 100% user satisfaction.Buy Risk Free with our 100% money back guarantee!']\n",
            "Description: ['>>>Product Specification:', 'Condition: New Material: Copper wire, Rubber Color: Black Type: Speaker Cable Suited For: Speaker/Amplifier Connector (s) A: One end has 1/4\" TS Male connector Connector (s) B:One end has Speakon connector Gauge: 12 Gauge Wire Cable Length: 6 ft. (Per Cable) Feature: Professional PA Speaker Cable For: For Stage Monitors, House Speakers, Subwoofers, etc.', '>>>Package Content:', '2 x Speaker Cables', '----------------------------About The Return Policy----------------------------', 'As a honest Amazon seller we offer convenient after-sales service:', 'If the item broken,damaged or wrong item received, customer only need to send a picture to us will be ok, and then we will refund or resend in 24 hours,and customer need not to return it to us.  If customer do not like it, we can offer return, or give serveral suggestions we think is better or more convenience;  If for other reasons, we encourage our customer contact us, we will response in one busness day and do our best to service you.']\n",
            "Price: 18.99\n",
            "Images: {'hi_res': 'https://m.media-amazon.com/images/I/71UNDv9bKFL._AC_SL1500_.jpg', 'large': 'https://m.media-amazon.com/images/I/411NhXoe8yL._AC_.jpg'}\n",
            "Store: Yoico\n",
            "Categories: ['Live Sound & Stage', 'Stage & Studio Cables', 'Speaker Cables']\n",
            "Details: {'Brand': 'Yoico', 'Compatible Devices': 'Monitor', 'Color': 'Black', 'Connector Gender': 'Male', 'Unit Count': '6 Foot', 'Gauge': '12.0', 'Package Type': 'Standard Packaging', 'Package Dimensions': '7.52 x 6.77 x 2.36 inches', 'Item Weight': '14.6 ounces', 'Manufacturer': 'Yoico', 'Item model number': 'Yoico', 'Best Sellers Rank': {'Musical Instruments': 6888, 'Stage & Studio Speaker Cables': 17}, 'Date First Available': 'January 14, 2021'}\n",
            "\n",
            "Similar Product:\n",
            "Title: Eminence Legend BP122 12\" Bass Guitar Speaker, 250 Watts at 8 Ohms, Black\n",
            "Features: ['Driver that delivers warm, rich tone and deep bass', 'This 250W driver is at home in small sealed enclosures', 'Also works well in pro audio and home Hi-Fi applications']\n",
            "Description: ['EMINENCE 250W,12\"/2\"VC/8OHMS']\n",
            "Price: 139.99\n",
            "Images: {'hi_res': 'https://m.media-amazon.com/images/I/51X695s+bAL._AC_SL1000_.jpg', 'large': 'https://m.media-amazon.com/images/I/41Nz7YhVweL._AC_.jpg'}\n",
            "Store: Eminence\n",
            "Categories: ['Live Sound & Stage', 'Monitors, Speakers & Subwoofers', 'Monitor, Speaker & Subwoofer Parts']\n",
            "Details: {'Item Weight': '9.27 pounds', 'Product Dimensions': '1\"D x 1\"W x 1\"H', 'Item model number': 'LEGENDBP122', 'Best Sellers Rank': {'Musical Instruments': 6810, 'Monitor, Speaker & Subwoofer Parts': 4, 'Music Recording Equipment': 2256}, 'Is Discontinued By Manufacturer': 'No', 'Date First Available': 'April 12, 2016', 'Color Name': 'Black', 'Compatible Devices': 'Guitar', 'Speaker Amplification Type': 'Passive', 'Output Wattage': '250 Watts', 'Size': '12 Inch', 'Power Source': 'Corded Electric', 'Wattage': '250 watts', 'Brand': 'Eminence', 'Color': 'Black'}\n",
            "\n",
            "Similar Product:\n",
            "Title: Shure MX418S/C Cardioid Condenser Microphone, 18\" Gooseneck with Attached XLR Preamp, Shock & Flange Mount, Snap-Fit Foam Windscreen, Mute Switch, LED Indicator\n",
            "Features: ['Attached XLR Preamp, Shock & Flange Mount, Snap-Fit Foam Windscreen, Mute Switch, LED Indicator', 'Wide dynamic range and frequency response for accurate sound reproduction across the audio spectrum', 'Interchangeable cartridges provide the right polar pattern for every application', 'Balanced, transformerless output for increased immunity to electromagnetic hum and RF interference over long cable runs', 'Shock mount provides over 20 dB isolation from surface vibration noise', 'Locking flange mount for permanently securing microphone to lecterns, pulpits, or conference tables', 'Snap-fit foam windscreen']\n",
            "Description: ['Microflex Standard Gooseneck microphones bring a whole new meaning to the word flexible with their fully adjustable gooseneck. Designed for easy replacement and available in cardioid, super cardioid and omnidirectional polar patterns, the interchangeable cartridges offer wide frequency response and accurate sound reproduction for a wide variety of applications, such as houses of worship, courtrooms and conference centers. Plus, the condenser cartridges fit every model in the Microflex product line for enhanced convenience and consistent sound.']\n",
            "Price: 269.0\n",
            "Images: {'hi_res': 'https://m.media-amazon.com/images/I/61uQh6evdQL._AC_SL1500_.jpg', 'large': 'https://m.media-amazon.com/images/I/21L+qw2Z1sL._AC_.jpg'}\n",
            "Store: Shure\n",
            "Categories: ['Microphones & Accessories', 'Microphones', 'Condenser Microphones', 'Multipurpose']\n",
            "Details: {'Item Weight': '9.3 ounces', 'Product Dimensions': '5.4 x 2.8 x 24.7 inches', 'Item model number': 'MX418S/C', 'Best Sellers Rank': {'Musical Instruments': 5120, 'Multipurpose Condenser Microphones': 113}, 'Is Discontinued By Manufacturer': 'No', 'Date First Available': 'November 19, 2004', 'Color Name': 'Black', 'Connector Type': 'XLR Connector', 'Material Type': 'Foam', 'Size': '18\" Gooseneck', 'Power Source': 'PHANTOM POWER: All condenser microphones require phantom power to operate. Please refer to the User Manual for more details on power requirements.', 'Brand': 'Shure', 'Connectivity Technology': 'Wired', 'Special Feature': 'XLR', 'Color': 'Black', 'Included Components': 'Attached XLR Preamp, Shock & Flange Mount, Snap-Fit Foam Windscreen, Mute Switch, LED Indicator', 'Polar Pattern': 'Unidirectional', 'Audio Sensitivity': '20 dB', 'Microphone Form Factor': 'microphone only', 'Item Dimensions LxWxH': '5.4 x 2.8 x 24.7 inches'}\n",
            "\n",
            "Similar Product:\n",
            "Title: Monoprice XLR Male to XLR Female Snake Cable - 10 Feet- Black/Silver, 4-Channel, Metal Connector Housings Plastic and Rubber Cable Boots\n",
            "Features: ['Buy with confidence: with Monoprice lifetime on all cables, you can rest assured we stand behind our products and our customers.', 'These XLR cable snakes feature four sets of male-to-female XLR Cables assembled into a single, soft and durable, cable jacket.', 'Each XLR connector has a silver metal Housing and is connected with a color coded wire, so you can quickly and easily make the right connections The first time, every time.', 'The cables are colored red, blue, white, and yellow.', 'Quality at a fair price: Monoprice rugged design and rigid quality control standards deliver high quality products at fair prices.']\n",
            "Description: [\"Get channel, professional, balanced audio XLR cable snakes from Monoprice for less than you're used to paying for each XLR cable alone! these XLR cable snakes feature four sets of male-to-female XLR Cables assembled into a single, soft and durable, cable jacket. Each XLR connector has a silver metal Housing and is connected with a color coded wire, so you can quickly and easily make the right connections The first time, every time.\"]\n",
            "Price: 23.84\n",
            "Images: {'hi_res': 'https://m.media-amazon.com/images/I/71S-inqMPuL._AC_SL1500_.jpg', 'large': 'https://m.media-amazon.com/images/I/41HpVhioNUL._AC_.jpg'}\n",
            "Store: Monoprice\n",
            "Categories: ['Live Sound & Stage', 'Stage & Studio Cables', 'Microphone Cables']\n",
            "Details: {'Brand': 'Monoprice', 'Connector Type': 'XLR', 'Cable Type': 'XLR', 'Color': 'Black', 'Connector Gender': 'Male-to-Female', 'Unit Count': '1 Count', 'Item Weight': '0.64 ounces', 'Specification Met': 'No', 'Number of Items': '1', 'Product Dimensions': '100.8 x 6.3 x 1.8 inches', 'Item model number': '108765', 'Best Sellers Rank': {'Musical Instruments': 2197, 'Microphone Cables': 91}, 'Is Discontinued By Manufacturer': 'No', 'Date First Available': 'December 4, 2011', 'Manufacturer': 'Monoprice Inc.', 'Country of Origin': 'China'}\n",
            "\n",
            "Similar Product:\n",
            "Title: D'Addario Accessories Planet Waves Acoustic Guitar Quick-Release System\n",
            "Features: ['Quickly, easily, and safely disengage guitar', 'Easy to setup and remove', 'A must have for your acoustic guitar', 'Secure during play', 'Works on your favorite guitar straps without permanent modification']\n",
            "Description: ['Acoustic Guitar Quick-Release System Bundle with Shell Celluloid Medium Thumb Picks']\n",
            "Price: 6.94\n",
            "Images: {'hi_res': 'https://m.media-amazon.com/images/I/61++w9qNtfL._AC_SL1500_.jpg', 'large': 'https://m.media-amazon.com/images/I/21F5tdM-4KL._AC_.jpg'}\n",
            "Store: D'Addario Accessories\n",
            "Categories: ['Instrument Accessories', 'Guitar & Bass Accessories', 'Straps & Strap Locks', 'Straps']\n",
            "Details: {'Item Package Dimensions L x W x H': '8.94 x 3.5 x 0.83 inches', 'Package Weight': '0.03 Kilograms', 'Item Dimensions  LxWxH': '0.4 x 9 x 3.5 inches', 'Item Weight': '23.13 Grams', 'Brand Name': \"D'Addario Accessories\", 'Country of Origin': 'United States', 'Warranty Description': 'Replaced if defective.', 'Model Name': 'Planet Waves', 'Color': 'Black', 'Suggested Users': 'Unisex-adult', 'Number of Items': '1', 'Manufacturer': \"D'Addario &Co. Inc\", 'Part Number': 'DGS15', 'Style': 'Modern', 'Best Sellers Rank': {'Musical Instruments': 2089, 'Guitar Straps': 43}, 'Date First Available': 'August 7, 2005'}\n",
            "\n",
            "Similar Product:\n",
            "Title: D'Addario Accessories Guitar Tuner - Micro Headstock Tuner - Tuner for Acoustic Guitar, Electric Guitar, Bass Guitar, Mandolin, Banjo, Ukelele, Cello, Double Bass & More - Universal Clip On - 1pk\n",
            "Features: ['THE STEALTH TUNER - Your audience will never know there is a tuner on your instrument with the highly precise Micro Clip-On Tuner. The lightweight, discrete, compact tuner hides behind the headstock practically blending into the instrument.', \"EXTREME ACCURACY - The NS Micro features an extremely accurate piezo transducer that picks up an instrument's vibration rather than sound. A wide calibration range (410-480Hz) guarantees precise performance.\", \"EASY TO READ - The easy-to-read, tri-color backlit screen displays the note in red when out of tune, yellow when close, and green when in tune. You will enjoy maximum battery life thanks to the tuner's auto-off function.\", 'VERSATILE - Featuring a 360-degree swivel mechanism and adjustable padded clamp, the NS Mini offers optimal viewing angles and maximum positioning flexibility.', 'D’ADDARIO ACCESSORIES - For over 20 years, D’Addario Accessories (formerly Planet Waves) has been leading the industry in innovative and problem-solving products that serve musicians worldwide.']\n",
            "Description: [\"D'Addario Ns Micro Universal Tuner (PW-CT-13)\"]\n",
            "Price: 18.99\n",
            "Images: {'hi_res': 'https://m.media-amazon.com/images/I/71JqORLMndL._AC_SL1500_.jpg', 'large': 'https://m.media-amazon.com/images/I/31pkx4WKnNL._AC_.jpg'}\n",
            "Store: D'Addario Accessories\n",
            "Categories: ['Instrument Accessories', 'General Accessories', 'Tuning']\n",
            "Details: {'Item Weight': '0.18 ounces', 'Product Dimensions': '1.06 x 4 x 5.75 inches', 'Domestic Shipping': 'Item can be shipped within U.S.', 'International Shipping': 'This item can be shipped to select countries outside of the U.S.  Learn More', 'Country of Origin': 'China', 'Item model number': 'PW-CT-13', 'Batteries': '1 CR2 batteries required.', 'Best Sellers Rank': {'Musical Instruments': 48, 'Music Tuning Accessories': 3}, 'Is Discontinued By Manufacturer': 'No', 'Date First Available': 'July 15, 2014', 'Color Name': 'Black', 'Musical Style': 'KR', 'Size': 'Single Pack', 'Standing screen display size': '2.5'}\n",
            "\n",
            "Similar Product:\n",
            "Title: Gator Cases Padded Nylon Gear Carry Removable Strap 15.5\" x 15\" x 5.5\" Mixer Bag (G-MIXERBAG-1515)\n",
            "Features: ['Padded Mixer or Equipment Bag with Rugged Nylon Exterior', '10mm Dual Layer Padded Protection and Protective Tricot lined interior prevents scratches', 'External storage pockets, with cord management, for cables, small accessories and power supplies', 'Removable shoulder strap & comfortable webbed handles for easy transport', 'Interior Dims: 15.5\" x 15\"x 5.5\"']\n",
            "Description: [\"Gator Cases G-MIXERBAG series of mixer bags mixes style with rugged protection for mixers, drum machines, effects pedals, and other gear or equipment during transport and storage. The G-MIXERBAG series features a durable nylon exterior and a 10mm padded, tricot lined interior to protect its precious cargo. The Gator Cases mixer and equipment bag also features a removable shoulder strap, a comfortable webbed handle and a generously large external storage pocket with cable management for cables, adapters, hard drives, guitar strings, patch cables, batteries, and other needed accessories. Rubber pads on the bottom of the bag provide protection from damage and help reduce wear. The G-MIXERBAG line of bags by Gator Cases provide ultimate protection at an affordable cost for a wide variety of gear.The G-MIXERBAG-1515 interior dimensions are 15.5” X 15” X 5.5” and fits popular mixers such as the Mackie ProFX12, ProFX8v2, ProFX12v2 and other mixers, drum machines, synths, and effects pedals from manufactures such as Mackie, Yamaha, Nady, PylePro, Alto Professional, Alesis, Samson, Akai, Native Instruments, Zoom, and Roland.Gator Cases is known for manufacturing innovative products designed to protect! We offer a wide range of available sizes, materials, and protection levels, for all types of instruments and gear including Frameworks stands, Rackworks install racks and accessories, and Protechtor drum cases. It isn't hard to find a great reason why Gator should be the brand you trust to protect your equipment for life.\"]\n",
            "Price: 49.99\n",
            "Images: {'hi_res': 'https://m.media-amazon.com/images/I/91gSG86wT7L._AC_SL1500_.jpg', 'large': 'https://m.media-amazon.com/images/I/413z4sWzvIL._AC_.jpg'}\n",
            "Store: Gator\n",
            "Categories: ['Electronic Music, DJ & Karaoke', 'DJ Equipment', 'Accessories', 'Bags & Cases', 'Mixers']\n",
            "Details: {'Manufacturer': 'Gator Cases', 'Brand': 'Gator', 'Item Weight': '2.3 pounds', 'Product Dimensions': '16 x 16 x 5.5 inches', 'Item model number': 'G-MIXERBAG-1515', 'Is Discontinued By Manufacturer': 'No', 'Color': 'Black', 'Closure': 'Zipper', 'Material Type': 'Synthetic', 'Number of Items': '1', 'Size': '15.5\"x 15\"x 5.5.\"', 'Manufacturer Part Number': 'HGF G-MIXERBAG-1515', 'Best Sellers Rank': {'Musical Instruments': 1084, 'DJ Mixer Bags & Cases': 3}, 'Domestic Shipping': 'Item can be shipped within U.S.', 'International Shipping': 'This item can be shipped to select countries outside of the U.S.  Learn More', 'Date First Available': 'January 22, 2015', 'Material': 'Synthetic', 'Style': 'Modern', 'Closure Type': 'Zipper'}\n",
            "\n",
            "Similar Product:\n",
            "Title: S3 Shubb Deluxe Series 12 String Guitar Capo - Stainless Steel\n",
            "Features: ['Distinctive capo design that has been loved and trusted by musicians for over 35 years', 'Unique among adjustable capos, with Shubb you can \"set it and forget it\"- no need to reset the pressure with each use', 'Locking and removing is as simple as flipping the lever', 'Custom-made rubber works just like a fingertip and effortlessly keeps your guitar in tune', 'To learn more about this product, see our Product Description below']\n",
            "Description: ['Shubb GC-30C Deluxe 12 String Guitar CapoShubb capos are hand-made in the U.S.A from the finest materials available']\n",
            "Price: 20.75\n",
            "Images: {'hi_res': 'https://m.media-amazon.com/images/I/71VWDW8KCSL._AC_SL1500_.jpg', 'large': 'https://m.media-amazon.com/images/I/41OYmp1MR8L._AC_.jpg'}\n",
            "Store: Golden Gate\n",
            "Categories: ['Instrument Accessories', 'Guitar & Bass Accessories', 'Capos']\n",
            "Details: {'Item Weight': '0.15 Pounds', 'Product Dimensions': '5.5 x 3 x 0.25 inches', 'Domestic Shipping': 'Item can be shipped within U.S.', 'International Shipping': 'This item can be shipped to select countries outside of the U.S.  Learn More', 'Country of Origin': 'China', 'Item model number': 'GC-30T', 'Best Sellers Rank': {'Musical Instruments': 5687, 'Guitar Capos': 71, 'Acoustic Guitar Strings': 79}, 'Is Discontinued By Manufacturer': 'No', 'Date First Available': 'August 22, 2010', 'Material Type': 'Stainless Steel,Rubber', 'Brand': 'Shubb', 'Material': 'Stainless Steel,Rubber', 'Style': 'Modern', 'Item Dimensions LxWxH': '5.5 x 3 x 0.25 inches'}\n",
            "\n",
            "Similar Product:\n",
            "Title: DR Strings FAT-BEAM Bass Guitar Strings (FB5-130)\n",
            "Features: ['Fat-beam - stainless steel bass strings: 5-string Medium to heavy 45-130', 'Made with a slower and high compression winding process to produce more pronounced mids, bright highs and a super-fat bottom', 'They produce an overall fuller sound with a solid punch when it’s needed', '45, 65, 85, 105, 130']\n",
            "Description: ['Product Description', 'Fat-beam bass strings blend The finest American stainless-steel wrap wire on a round core, but are made with a slower and high compression winding process to produce more pronounced mids, bright highs and a super-fat bottom. They produce an overall fuller sound with a solid punch when it’s needed.', 'From the Manufacturer', 'FAT-BEAM™ Bass Strings blend the finest American stainless-steel wrap wire on a round core, but are made with a slower and high compression winding process to produce more pronounced mids, bright highs and a super-fat bottom. They produce an overall fuller sound with a solid punch when it’s needed.']\n",
            "Price: 31.99\n",
            "Images: {'hi_res': 'https://m.media-amazon.com/images/I/81xIefM5KwL._AC_SL1500_.jpg', 'large': 'https://m.media-amazon.com/images/I/517FcS6ZoGL._AC_.jpg'}\n",
            "Store: DR Strings\n",
            "Categories: ['Instrument Accessories', 'Guitar & Bass Accessories', 'Strings', 'Bass Guitar Strings']\n",
            "Details: {'Item Weight': '6.6 ounces', 'Product Dimensions': '6 x 0.5 x 6 inches', 'Item model number': 'FB5-130', 'Best Sellers Rank': {'Musical Instruments': 11012, 'Bass Guitar Strings': 75, 'Guitar Straps & Strap Locks': 259}, 'Date First Available': 'January 1, 2015', 'Color Name': 'Silver', 'Hardware Interface': 'USB', 'Scale Length': '34, 35', 'String Gauge': '.045', 'String Material': 'Stainless Steel', 'Number of Strings': '5', 'Material Type': 'Stainless-Steel', 'Musical Style': 'Jazz, funk, pop, rock, blues, gospel, punk, metal', 'Proficiency Level': 'All', 'Brand': 'DR Strings', 'Color': 'Silver', 'Instrument': 'Electric Bass Guitar', 'String Material Type': 'Stainless Steel'}\n"
          ]
        }
      ],
      "source": [
        "from sklearn.neighbors import NearestNeighbors\n",
        "\n",
        "def find_similar_products_by_title(product_title, X, item_mapper, item_inv_mapper, product_titles, k, metric='cosine'):\n",
        "    \"\"\"\n",
        "    Finds k-nearest neighbours for a given product title.\n",
        "\n",
        "    Args:\n",
        "        product_title: Title of the product of interest\n",
        "        X: user-item utility matrix (sparse matrix)\n",
        "        k: number of similar products to retrieve\n",
        "        metric: distance metric for kNN calculations\n",
        "\n",
        "    Output: returns list of k similar product details based on product titles\n",
        "    \"\"\"\n",
        "    # Map the product title to its corresponding product ID\n",
        "    product_id = None\n",
        "    for pid, title in product_titles.items():\n",
        "        if title.lower() == product_title.lower():  # Case-insensitive match\n",
        "            product_id = pid\n",
        "            break\n",
        "\n",
        "    if product_id is None:\n",
        "        raise ValueError(f\"Product with title '{product_title}' not found in the dataset.\")\n",
        "\n",
        "    # Transpose the user-item matrix so products are the rows\n",
        "    X = X.T\n",
        "    neighbour_ids = []\n",
        "\n",
        "    # Get the index of the product using its ID\n",
        "    product_ind = item_mapper[product_id]\n",
        "    product_vec = X[product_ind]\n",
        "\n",
        "    # Reshape the product vector to be compatible with kneighbors\n",
        "    if isinstance(product_vec, np.ndarray):\n",
        "        product_vec = product_vec.reshape(1, -1)\n",
        "\n",
        "    # Use k+1 since kNN output includes the product ID of interest\n",
        "    kNN = NearestNeighbors(n_neighbors=k + 1, algorithm=\"brute\", metric=metric)\n",
        "    kNN.fit(X)\n",
        "\n",
        "    # Find the nearest neighbours\n",
        "    neighbour = kNN.kneighbors(product_vec, return_distance=False)\n",
        "\n",
        "    # Collect similar product IDs, skipping the first one (the product itself)\n",
        "    for i in range(1, k + 1):  # Start from 1 to skip the input product\n",
        "        n = neighbour.item(i)\n",
        "        neighbour_ids.append(item_inv_mapper[n])\n",
        "\n",
        "    return neighbour_ids\n",
        "\n",
        "\n",
        "# Example product_titles mapping 'parent_asin' to 'title'\n",
        "product_details = metadf.set_index('parent_asin')[['title', 'features', 'description', 'price', 'images', 'store', 'categories', 'details']]\n",
        "\n",
        "# Map 'parent_asin' to 'title' for searching by product title\n",
        "product_titles = dict(zip(metadf['parent_asin'], metadf['title']))\n",
        "\n",
        "# Define the product_title you want to find similar items for\n",
        "product_title = 'VocoPro (VHF4000'  # Replace with an actual product title from your dataset\n",
        "\n",
        "# Find similar products based on your product title\n",
        "similar_products = find_similar_products_by_title(product_title, X, item_mapper, item_inv_mapper, product_titles, metric='cosine', k=10)\n",
        "\n",
        "# Get the product details for the input product title\n",
        "input_product_id = None\n",
        "for pid, title in product_titles.items():\n",
        "    if title.lower() == product_title.lower():\n",
        "        input_product_id = pid\n",
        "        break\n",
        "\n",
        "input_product_details = product_details.loc[input_product_id]\n",
        "\n",
        "# Print the details of the input product\n",
        "print(f\"Because you viewed/bought '{input_product_details['title']}', here are similar products:\")\n",
        "\n",
        "# Display details of similar products\n",
        "for similar_product_id in similar_products:\n",
        "    product_info = product_details.loc[similar_product_id]\n",
        "    print(\"\\nSimilar Product:\")\n",
        "    print(f\"Title: {product_info['title']}\")\n",
        "    print(f\"Features: {product_info['features']}\")\n",
        "    print(f\"Description: {product_info['description']}\")\n",
        "    print(f\"Price: {product_info['price']}\")\n",
        "    print(f\"Images: {product_info['images']}\")\n",
        "    print(f\"Store: {product_info['store']}\")\n",
        "    print(f\"Categories: {product_info['categories']}\")\n",
        "    print(f\"Details: {product_info['details']}\")\n"
      ]
    },
    {
      "cell_type": "code",
      "execution_count": 26,
      "metadata": {},
      "outputs": [],
      "source": [
        "def personalization(similar_products):\n",
        "    total_overlap = 0\n",
        "    num_comparisons = 0\n",
        "    for i in range(len(similar_products)):\n",
        "        for j in range(i + 1, len(similar_products)):\n",
        "            overlap = len(set(similar_products[i]) & set(similar_products[j]))\n",
        "            total_overlap += overlap / len(similar_products[i])  # Normalized overlap\n",
        "            num_comparisons += 1\n",
        "    return 1 - (total_overlap / num_comparisons)  # Less overlap means higher personalization\n"
      ]
    },
    {
      "cell_type": "code",
      "execution_count": 27,
      "metadata": {},
      "outputs": [],
      "source": [
        "metric = personalization(similar_products)"
      ]
    },
    {
      "cell_type": "code",
      "execution_count": 28,
      "metadata": {},
      "outputs": [
        {
          "name": "stdout",
          "output_type": "stream",
          "text": [
            "0.6599999999999999\n"
          ]
        }
      ],
      "source": [
        "print(metric)"
      ]
    },
    {
      "cell_type": "code",
      "execution_count": 29,
      "metadata": {},
      "outputs": [],
      "source": [
        "from sklearn.feature_extraction.text import TfidfVectorizer\n",
        "from sklearn.metrics.pairwise import cosine_similarity"
      ]
    },
    {
      "cell_type": "code",
      "execution_count": 30,
      "metadata": {},
      "outputs": [],
      "source": [
        "def content_based_recommendations(metadf, query, top_n=8, chunk_size=1000):\n",
        "    # Filter products with titles that contain the query (case-insensitive)\n",
        "    matching_products = metadf[metadf['title'].str.contains(query, case=False)]\n",
        "\n",
        "    if matching_products.empty:\n",
        "        print(f\"No matching products found for query: '{query}'\")\n",
        "        return pd.DataFrame()\n",
        "\n",
        "    # Create a TF-IDF vectorizer for the 'description' column\n",
        "    tfidf_vectorizer = TfidfVectorizer(stop_words='english')\n",
        "\n",
        "    # Apply TF-IDF vectorization to the descriptions\n",
        "    tfidf_matrix = tfidf_vectorizer.fit_transform(matching_products['description'].fillna(''))\n",
        "\n",
        "    # Compute cosine similarity between all products and the first matching product\n",
        "    cosine_sim = cosine_similarity(tfidf_matrix[0:1], tfidf_matrix).flatten()\n",
        "\n",
        "    # Get the top N most similar items (excluding the query item itself)\n",
        "    similar_indices = cosine_sim.argsort()[-top_n-1:-1][::-1]\n",
        "\n",
        "    # Get the details of the recommended items\n",
        "    recommended_items = matching_products.iloc[similar_indices][\n",
        "        ['title', 'average_rating', 'rating_number', 'images', 'price', 'store', 'parent_asin']\n",
        "    ]\n",
        "\n",
        "    return recommended_items"
      ]
    },
    {
      "cell_type": "code",
      "execution_count": 49,
      "metadata": {},
      "outputs": [],
      "source": [
        "query = \"Guitar pick\"\n",
        "\n",
        "rec_i = content_based_recommendations(metadf, query)"
      ]
    },
    {
      "cell_type": "code",
      "execution_count": 51,
      "metadata": {},
      "outputs": [
        {
          "name": "stdout",
          "output_type": "stream",
          "text": [
            "                                                   title  average_rating  \\\n",
            "25249  Perris Leathers LP-TB2 The Beatles Guitar Pick...             4.8   \n",
            "15690  Love And Peace Sign Hippie Psychedelic (2) Pre...             3.0   \n",
            "24825         Om Guitar Pick, Ohm Guitar Pick, Two Picks             5.0   \n",
            "20116  Funny Guitar Picks Novelty Gift Set - 10 Guita...             4.3   \n",
            "1812   2 PCS Guitar Picks Case Guitar Picks Holder Le...             4.5   \n",
            "15032  Mixed White Luxury Guitar Pick for Electric Ac...             3.4   \n",
            "24950  Rclover Personalized Guitar Strap Leather, Nam...             4.7   \n",
            "20478  Leather Guitar Pick Holder Keychain, Guitar Pi...             4.1   \n",
            "\n",
            "       rating_number                                             images  \\\n",
            "25249            898  {'hi_res': 'https://m.media-amazon.com/images/...   \n",
            "15690              1  {'hi_res': 'https://m.media-amazon.com/images/...   \n",
            "24825              3  {'hi_res': 'https://m.media-amazon.com/images/...   \n",
            "20116             10  {'hi_res': 'https://m.media-amazon.com/images/...   \n",
            "1812              14  {'hi_res': 'https://m.media-amazon.com/images/...   \n",
            "15032             10  {'hi_res': 'https://m.media-amazon.com/images/...   \n",
            "24950              7  {'hi_res': 'https://m.media-amazon.com/images/...   \n",
            "20478              6  {'hi_res': 'https://m.media-amazon.com/images/...   \n",
            "\n",
            "       price                    store parent_asin  \n",
            "25249   6.16  P Perri's Leathers Ltd.  B07G1WD6WT  \n",
            "15690   7.99                  Generic  B0BXGWK5NN  \n",
            "24825   4.95                  Unknown  B00COZHTAS  \n",
            "20116  11.99              Bird Finger  B0BZK73M92  \n",
            "1812   12.99                    LGEGE  B09MLTP4XF  \n",
            "15032   4.99                 ADOUGEDU  B09PQNJKQY  \n",
            "24950  34.98                  Rclover  B09WMWSBLJ  \n",
            "20478   6.99                   Gmakin  B0BTJ92585  \n"
          ]
        }
      ],
      "source": [
        "print(rec_i)"
      ]
    },
    {
      "cell_type": "code",
      "execution_count": 65,
      "metadata": {},
      "outputs": [],
      "source": [
        "list_i = rec_i['parent_asin'].to_list()"
      ]
    },
    {
      "cell_type": "code",
      "execution_count": 66,
      "metadata": {},
      "outputs": [
        {
          "name": "stdout",
          "output_type": "stream",
          "text": [
            "['B07G1WD6WT', 'B0BXGWK5NN', 'B00COZHTAS', 'B0BZK73M92', 'B09MLTP4XF', 'B09PQNJKQY', 'B09WMWSBLJ', 'B0BTJ92585']\n"
          ]
        }
      ],
      "source": [
        "print(list_i)"
      ]
    },
    {
      "cell_type": "code",
      "execution_count": 67,
      "metadata": {},
      "outputs": [
        {
          "name": "stdout",
          "output_type": "stream",
          "text": [
            "['B09392HX81', 'B07MC4XF9G', 'B01KDK4UTI', 'B0BLM212RK', 'B07DX95KP2', 'B07XP6MHQT', 'B0BPLFP5P6', 'B01M8N618U', 'B0CBSSC46G', 'B0CBSSH4TN']\n"
          ]
        }
      ],
      "source": [
        "print(similar_products)"
      ]
    },
    {
      "cell_type": "code",
      "execution_count": 68,
      "metadata": {},
      "outputs": [
        {
          "name": "stdout",
          "output_type": "stream",
          "text": [
            "0.6642857142857141\n"
          ]
        }
      ],
      "source": [
        "per = personalization(list_i)\n",
        "print(per)"
      ]
    }
  ],
  "metadata": {
    "colab": {
      "collapsed_sections": [
        "okjMFdM6LjQg",
        "Kdm2e0R9J--H",
        "mLnEtnI132Az"
      ],
      "provenance": []
    },
    "kernelspec": {
      "display_name": "env",
      "language": "python",
      "name": "python3"
    },
    "language_info": {
      "codemirror_mode": {
        "name": "ipython",
        "version": 3
      },
      "file_extension": ".py",
      "mimetype": "text/x-python",
      "name": "python",
      "nbconvert_exporter": "python",
      "pygments_lexer": "ipython3",
      "version": "3.12.4"
    }
  },
  "nbformat": 4,
  "nbformat_minor": 0
}
